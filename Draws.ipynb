{
 "cells": [
  {
   "cell_type": "code",
   "execution_count": 1,
   "id": "2545cc2b",
   "metadata": {},
   "outputs": [],
   "source": [
    "import numpy as np\n",
    "import pandas as pd\n",
    "import matplotlib.pyplot as plt\n",
    "import seaborn as sns\n",
    "\n",
    "import warnings\n",
    "warnings.filterwarnings('ignore')"
   ]
  },
  {
   "cell_type": "code",
   "execution_count": 380,
   "id": "12848900",
   "metadata": {},
   "outputs": [],
   "source": [
    "stu1 = pd.read_csv(r'C:\\Users\\Alon\\Downloads\\train\\train\\7554\\SimpleTest\\11.csv', parse_dates=[' Time'])"
   ]
  },
  {
   "cell_type": "code",
   "execution_count": 381,
   "id": "3ada6a23",
   "metadata": {
    "scrolled": true
   },
   "outputs": [
    {
     "name": "stdout",
     "output_type": "stream",
     "text": [
      "Len: 824\n",
      "<class 'pandas.core.frame.DataFrame'>\n",
      "RangeIndex: 824 entries, 0 to 823\n",
      "Data columns (total 6 columns):\n",
      " #   Column     Non-Null Count  Dtype         \n",
      "---  ------     --------------  -----         \n",
      " 0   X          824 non-null    object        \n",
      " 1    Y         822 non-null    float64       \n",
      " 2    Pressure  822 non-null    float64       \n",
      " 3    TiltX     822 non-null    float64       \n",
      " 4    TiltY     822 non-null    float64       \n",
      " 5    Time      822 non-null    datetime64[ns]\n",
      "dtypes: datetime64[ns](1), float64(4), object(1)\n",
      "memory usage: 38.8+ KB\n"
     ]
    }
   ],
   "source": [
    "print(\"Len:\", len(stu1))\n",
    "stu1.info()"
   ]
  },
  {
   "cell_type": "code",
   "execution_count": 382,
   "id": "54b6445a",
   "metadata": {},
   "outputs": [
    {
     "data": {
      "text/plain": [
       "Index(['X', 'Y', 'Pressure', 'TiltX', 'TiltY', 'Time'], dtype='object')"
      ]
     },
     "execution_count": 382,
     "metadata": {},
     "output_type": "execute_result"
    }
   ],
   "source": [
    "#Fixing the space before any column title:\n",
    "stu1.columns = ['X', 'Y', 'Pressure', 'TiltX', 'TiltY', 'Time']\n",
    "stu1.columns"
   ]
  },
  {
   "cell_type": "markdown",
   "id": "be7b91f4",
   "metadata": {},
   "source": [
    "## Converting 'X' to float"
   ]
  },
  {
   "cell_type": "code",
   "execution_count": 383,
   "id": "bb071065",
   "metadata": {},
   "outputs": [
    {
     "data": {
      "text/plain": [
       "str"
      ]
     },
     "execution_count": 383,
     "metadata": {},
     "output_type": "execute_result"
    }
   ],
   "source": [
    "#'X' col type is str.\n",
    "type(stu1['X'][0])"
   ]
  },
  {
   "cell_type": "code",
   "execution_count": 384,
   "id": "9d103277",
   "metadata": {},
   "outputs": [
    {
     "data": {
      "text/html": [
       "<div>\n",
       "<style scoped>\n",
       "    .dataframe tbody tr th:only-of-type {\n",
       "        vertical-align: middle;\n",
       "    }\n",
       "\n",
       "    .dataframe tbody tr th {\n",
       "        vertical-align: top;\n",
       "    }\n",
       "\n",
       "    .dataframe thead th {\n",
       "        text-align: right;\n",
       "    }\n",
       "</style>\n",
       "<table border=\"1\" class=\"dataframe\">\n",
       "  <thead>\n",
       "    <tr style=\"text-align: right;\">\n",
       "      <th></th>\n",
       "      <th>X</th>\n",
       "      <th>Y</th>\n",
       "      <th>Pressure</th>\n",
       "      <th>TiltX</th>\n",
       "      <th>TiltY</th>\n",
       "      <th>Time</th>\n",
       "    </tr>\n",
       "  </thead>\n",
       "  <tbody>\n",
       "    <tr>\n",
       "      <th>822</th>\n",
       "      <td>Time Elapsed till drawing started: 00:08.4231753</td>\n",
       "      <td>NaN</td>\n",
       "      <td>NaN</td>\n",
       "      <td>NaN</td>\n",
       "      <td>NaN</td>\n",
       "      <td>NaT</td>\n",
       "    </tr>\n",
       "    <tr>\n",
       "      <th>823</th>\n",
       "      <td>Time Elapsed till drawing submit: 01:48.3390641</td>\n",
       "      <td>NaN</td>\n",
       "      <td>NaN</td>\n",
       "      <td>NaN</td>\n",
       "      <td>NaN</td>\n",
       "      <td>NaT</td>\n",
       "    </tr>\n",
       "  </tbody>\n",
       "</table>\n",
       "</div>"
      ],
      "text/plain": [
       "                                                    X   Y  Pressure  TiltX  \\\n",
       "822  Time Elapsed till drawing started: 00:08.4231753 NaN       NaN    NaN   \n",
       "823   Time Elapsed till drawing submit: 01:48.3390641 NaN       NaN    NaN   \n",
       "\n",
       "     TiltY Time  \n",
       "822    NaN  NaT  \n",
       "823    NaN  NaT  "
      ]
     },
     "execution_count": 384,
     "metadata": {},
     "output_type": "execute_result"
    }
   ],
   "source": [
    "#This happens cuz the last 2 rows, which are a summery\n",
    "stu1[-2:]"
   ]
  },
  {
   "cell_type": "code",
   "execution_count": 385,
   "id": "861fb89d",
   "metadata": {},
   "outputs": [
    {
     "data": {
      "text/html": [
       "<div>\n",
       "<style scoped>\n",
       "    .dataframe tbody tr th:only-of-type {\n",
       "        vertical-align: middle;\n",
       "    }\n",
       "\n",
       "    .dataframe tbody tr th {\n",
       "        vertical-align: top;\n",
       "    }\n",
       "\n",
       "    .dataframe thead th {\n",
       "        text-align: right;\n",
       "    }\n",
       "</style>\n",
       "<table border=\"1\" class=\"dataframe\">\n",
       "  <thead>\n",
       "    <tr style=\"text-align: right;\">\n",
       "      <th></th>\n",
       "      <th>X</th>\n",
       "      <th>Y</th>\n",
       "      <th>Pressure</th>\n",
       "      <th>TiltX</th>\n",
       "      <th>TiltY</th>\n",
       "      <th>Time</th>\n",
       "    </tr>\n",
       "  </thead>\n",
       "  <tbody>\n",
       "    <tr>\n",
       "      <th>817</th>\n",
       "      <td>879.033606652038</td>\n",
       "      <td>505.607576</td>\n",
       "      <td>0.625727</td>\n",
       "      <td>-3260.0</td>\n",
       "      <td>1718.0</td>\n",
       "      <td>2022-06-12 00:27:35</td>\n",
       "    </tr>\n",
       "    <tr>\n",
       "      <th>818</th>\n",
       "      <td>879.191592562652</td>\n",
       "      <td>505.449590</td>\n",
       "      <td>0.608148</td>\n",
       "      <td>-3260.0</td>\n",
       "      <td>1718.0</td>\n",
       "      <td>2022-06-12 00:27:36</td>\n",
       "    </tr>\n",
       "    <tr>\n",
       "      <th>819</th>\n",
       "      <td>879.454902413674</td>\n",
       "      <td>505.186280</td>\n",
       "      <td>0.596918</td>\n",
       "      <td>-3260.0</td>\n",
       "      <td>1718.0</td>\n",
       "      <td>2022-06-12 00:27:36</td>\n",
       "    </tr>\n",
       "    <tr>\n",
       "      <th>820</th>\n",
       "      <td>879.454902413674</td>\n",
       "      <td>505.186280</td>\n",
       "      <td>0.586175</td>\n",
       "      <td>-3260.0</td>\n",
       "      <td>1718.0</td>\n",
       "      <td>2022-06-12 00:27:37</td>\n",
       "    </tr>\n",
       "    <tr>\n",
       "      <th>821</th>\n",
       "      <td>879.454902413674</td>\n",
       "      <td>505.186280</td>\n",
       "      <td>0.549798</td>\n",
       "      <td>-3260.0</td>\n",
       "      <td>1718.0</td>\n",
       "      <td>2022-06-12 00:27:37</td>\n",
       "    </tr>\n",
       "  </tbody>\n",
       "</table>\n",
       "</div>"
      ],
      "text/plain": [
       "                    X           Y  Pressure   TiltX   TiltY  \\\n",
       "817  879.033606652038  505.607576  0.625727 -3260.0  1718.0   \n",
       "818  879.191592562652  505.449590  0.608148 -3260.0  1718.0   \n",
       "819  879.454902413674  505.186280  0.596918 -3260.0  1718.0   \n",
       "820  879.454902413674  505.186280  0.586175 -3260.0  1718.0   \n",
       "821  879.454902413674  505.186280  0.549798 -3260.0  1718.0   \n",
       "\n",
       "                   Time  \n",
       "817 2022-06-12 00:27:35  \n",
       "818 2022-06-12 00:27:36  \n",
       "819 2022-06-12 00:27:36  \n",
       "820 2022-06-12 00:27:37  \n",
       "821 2022-06-12 00:27:37  "
      ]
     },
     "execution_count": 385,
     "metadata": {},
     "output_type": "execute_result"
    }
   ],
   "source": [
    "#If we remove them we can make 'X' col to float easly.\n",
    "stu = stu1[0:-2]\n",
    "stu.tail(5)"
   ]
  },
  {
   "cell_type": "code",
   "execution_count": 386,
   "id": "4f711057",
   "metadata": {},
   "outputs": [
    {
     "data": {
      "text/plain": [
       "numpy.float64"
      ]
     },
     "execution_count": 386,
     "metadata": {},
     "output_type": "execute_result"
    }
   ],
   "source": [
    "stu['X'] = pd.to_numeric(stu['X'], errors='coerce')\n",
    "type(stu['X'][3])"
   ]
  },
  {
   "cell_type": "markdown",
   "id": "e944e6a0",
   "metadata": {},
   "source": [
    "## Adding 'diff' col"
   ]
  },
  {
   "cell_type": "code",
   "execution_count": 387,
   "id": "84a2b44d",
   "metadata": {
    "scrolled": true
   },
   "outputs": [
    {
     "data": {
      "text/html": [
       "<div>\n",
       "<style scoped>\n",
       "    .dataframe tbody tr th:only-of-type {\n",
       "        vertical-align: middle;\n",
       "    }\n",
       "\n",
       "    .dataframe tbody tr th {\n",
       "        vertical-align: top;\n",
       "    }\n",
       "\n",
       "    .dataframe thead th {\n",
       "        text-align: right;\n",
       "    }\n",
       "</style>\n",
       "<table border=\"1\" class=\"dataframe\">\n",
       "  <thead>\n",
       "    <tr style=\"text-align: right;\">\n",
       "      <th></th>\n",
       "      <th>X</th>\n",
       "      <th>Y</th>\n",
       "      <th>Pressure</th>\n",
       "      <th>TiltX</th>\n",
       "      <th>TiltY</th>\n",
       "      <th>Time</th>\n",
       "      <th>lag1</th>\n",
       "    </tr>\n",
       "  </thead>\n",
       "  <tbody>\n",
       "    <tr>\n",
       "      <th>0</th>\n",
       "      <td>968.558956</td>\n",
       "      <td>611.089502</td>\n",
       "      <td>0.113756</td>\n",
       "      <td>-4045.0</td>\n",
       "      <td>1362.0</td>\n",
       "      <td>2022-06-12 00:08:25</td>\n",
       "      <td>NaT</td>\n",
       "    </tr>\n",
       "    <tr>\n",
       "      <th>1</th>\n",
       "      <td>968.874928</td>\n",
       "      <td>611.142164</td>\n",
       "      <td>0.115709</td>\n",
       "      <td>-4045.0</td>\n",
       "      <td>1362.0</td>\n",
       "      <td>2022-06-12 00:08:26</td>\n",
       "      <td>2022-06-12 00:08:25</td>\n",
       "    </tr>\n",
       "    <tr>\n",
       "      <th>2</th>\n",
       "      <td>970.138815</td>\n",
       "      <td>611.036840</td>\n",
       "      <td>0.137194</td>\n",
       "      <td>-4045.0</td>\n",
       "      <td>1362.0</td>\n",
       "      <td>2022-06-12 00:08:27</td>\n",
       "      <td>2022-06-12 00:08:26</td>\n",
       "    </tr>\n",
       "    <tr>\n",
       "      <th>3</th>\n",
       "      <td>970.402125</td>\n",
       "      <td>611.036840</td>\n",
       "      <td>0.207263</td>\n",
       "      <td>-4045.0</td>\n",
       "      <td>1362.0</td>\n",
       "      <td>2022-06-12 00:08:28</td>\n",
       "      <td>2022-06-12 00:08:27</td>\n",
       "    </tr>\n",
       "    <tr>\n",
       "      <th>4</th>\n",
       "      <td>970.402125</td>\n",
       "      <td>611.036840</td>\n",
       "      <td>0.296376</td>\n",
       "      <td>-4045.0</td>\n",
       "      <td>1362.0</td>\n",
       "      <td>2022-06-12 00:08:29</td>\n",
       "      <td>2022-06-12 00:08:28</td>\n",
       "    </tr>\n",
       "  </tbody>\n",
       "</table>\n",
       "</div>"
      ],
      "text/plain": [
       "            X           Y  Pressure   TiltX   TiltY                Time  \\\n",
       "0  968.558956  611.089502  0.113756 -4045.0  1362.0 2022-06-12 00:08:25   \n",
       "1  968.874928  611.142164  0.115709 -4045.0  1362.0 2022-06-12 00:08:26   \n",
       "2  970.138815  611.036840  0.137194 -4045.0  1362.0 2022-06-12 00:08:27   \n",
       "3  970.402125  611.036840  0.207263 -4045.0  1362.0 2022-06-12 00:08:28   \n",
       "4  970.402125  611.036840  0.296376 -4045.0  1362.0 2022-06-12 00:08:29   \n",
       "\n",
       "                 lag1  \n",
       "0                 NaT  \n",
       "1 2022-06-12 00:08:25  \n",
       "2 2022-06-12 00:08:26  \n",
       "3 2022-06-12 00:08:27  \n",
       "4 2022-06-12 00:08:28  "
      ]
     },
     "execution_count": 387,
     "metadata": {},
     "output_type": "execute_result"
    }
   ],
   "source": [
    "stu[\"lag1\"] = stu['Time'].shift(periods = 1)\n",
    "stu.head()"
   ]
  },
  {
   "cell_type": "code",
   "execution_count": 388,
   "id": "d4bc12a8",
   "metadata": {
    "scrolled": false
   },
   "outputs": [
    {
     "data": {
      "text/html": [
       "<div>\n",
       "<style scoped>\n",
       "    .dataframe tbody tr th:only-of-type {\n",
       "        vertical-align: middle;\n",
       "    }\n",
       "\n",
       "    .dataframe tbody tr th {\n",
       "        vertical-align: top;\n",
       "    }\n",
       "\n",
       "    .dataframe thead th {\n",
       "        text-align: right;\n",
       "    }\n",
       "</style>\n",
       "<table border=\"1\" class=\"dataframe\">\n",
       "  <thead>\n",
       "    <tr style=\"text-align: right;\">\n",
       "      <th></th>\n",
       "      <th>X</th>\n",
       "      <th>Y</th>\n",
       "      <th>Pressure</th>\n",
       "      <th>TiltX</th>\n",
       "      <th>TiltY</th>\n",
       "      <th>Time</th>\n",
       "      <th>lag1</th>\n",
       "      <th>diff</th>\n",
       "    </tr>\n",
       "  </thead>\n",
       "  <tbody>\n",
       "    <tr>\n",
       "      <th>0</th>\n",
       "      <td>968.558956</td>\n",
       "      <td>611.089502</td>\n",
       "      <td>0.113756</td>\n",
       "      <td>-4045.0</td>\n",
       "      <td>1362.0</td>\n",
       "      <td>2022-06-12 00:08:25</td>\n",
       "      <td>NaT</td>\n",
       "      <td>NaT</td>\n",
       "    </tr>\n",
       "    <tr>\n",
       "      <th>1</th>\n",
       "      <td>968.874928</td>\n",
       "      <td>611.142164</td>\n",
       "      <td>0.115709</td>\n",
       "      <td>-4045.0</td>\n",
       "      <td>1362.0</td>\n",
       "      <td>2022-06-12 00:08:26</td>\n",
       "      <td>2022-06-12 00:08:25</td>\n",
       "      <td>0 days 00:00:01</td>\n",
       "    </tr>\n",
       "    <tr>\n",
       "      <th>2</th>\n",
       "      <td>970.138815</td>\n",
       "      <td>611.036840</td>\n",
       "      <td>0.137194</td>\n",
       "      <td>-4045.0</td>\n",
       "      <td>1362.0</td>\n",
       "      <td>2022-06-12 00:08:27</td>\n",
       "      <td>2022-06-12 00:08:26</td>\n",
       "      <td>0 days 00:00:01</td>\n",
       "    </tr>\n",
       "    <tr>\n",
       "      <th>3</th>\n",
       "      <td>970.402125</td>\n",
       "      <td>611.036840</td>\n",
       "      <td>0.207263</td>\n",
       "      <td>-4045.0</td>\n",
       "      <td>1362.0</td>\n",
       "      <td>2022-06-12 00:08:28</td>\n",
       "      <td>2022-06-12 00:08:27</td>\n",
       "      <td>0 days 00:00:01</td>\n",
       "    </tr>\n",
       "    <tr>\n",
       "      <th>4</th>\n",
       "      <td>970.402125</td>\n",
       "      <td>611.036840</td>\n",
       "      <td>0.296376</td>\n",
       "      <td>-4045.0</td>\n",
       "      <td>1362.0</td>\n",
       "      <td>2022-06-12 00:08:29</td>\n",
       "      <td>2022-06-12 00:08:28</td>\n",
       "      <td>0 days 00:00:01</td>\n",
       "    </tr>\n",
       "  </tbody>\n",
       "</table>\n",
       "</div>"
      ],
      "text/plain": [
       "            X           Y  Pressure   TiltX   TiltY                Time  \\\n",
       "0  968.558956  611.089502  0.113756 -4045.0  1362.0 2022-06-12 00:08:25   \n",
       "1  968.874928  611.142164  0.115709 -4045.0  1362.0 2022-06-12 00:08:26   \n",
       "2  970.138815  611.036840  0.137194 -4045.0  1362.0 2022-06-12 00:08:27   \n",
       "3  970.402125  611.036840  0.207263 -4045.0  1362.0 2022-06-12 00:08:28   \n",
       "4  970.402125  611.036840  0.296376 -4045.0  1362.0 2022-06-12 00:08:29   \n",
       "\n",
       "                 lag1            diff  \n",
       "0                 NaT             NaT  \n",
       "1 2022-06-12 00:08:25 0 days 00:00:01  \n",
       "2 2022-06-12 00:08:26 0 days 00:00:01  \n",
       "3 2022-06-12 00:08:27 0 days 00:00:01  \n",
       "4 2022-06-12 00:08:28 0 days 00:00:01  "
      ]
     },
     "execution_count": 388,
     "metadata": {},
     "output_type": "execute_result"
    }
   ],
   "source": [
    "stu[\"diff\"] = stu['Time'].sub(stu[\"lag1\"])\n",
    "stu.head(5)"
   ]
  },
  {
   "cell_type": "code",
   "execution_count": 389,
   "id": "70e21f1d",
   "metadata": {
    "scrolled": true
   },
   "outputs": [
    {
     "name": "stdout",
     "output_type": "stream",
     "text": [
      "0 days 00:00:00\n",
      "0 days 00:00:01\n",
      "0 days 00:00:02\n"
     ]
    }
   ],
   "source": [
    "#Let's make time units of measurement (for comparison)\n",
    "op1 = stu[\"diff\"][1] - stu[\"diff\"][1] #0.00\n",
    "op2 = stu[\"diff\"][1] #0.01\n",
    "op3 = stu[\"diff\"][1] + stu[\"diff\"][1] #0.02\n",
    "print(op1)\n",
    "print(op2)\n",
    "print(op3)"
   ]
  },
  {
   "cell_type": "code",
   "execution_count": 390,
   "id": "1395ca30",
   "metadata": {
    "scrolled": true
   },
   "outputs": [
    {
     "data": {
      "text/html": [
       "<div>\n",
       "<style scoped>\n",
       "    .dataframe tbody tr th:only-of-type {\n",
       "        vertical-align: middle;\n",
       "    }\n",
       "\n",
       "    .dataframe tbody tr th {\n",
       "        vertical-align: top;\n",
       "    }\n",
       "\n",
       "    .dataframe thead th {\n",
       "        text-align: right;\n",
       "    }\n",
       "</style>\n",
       "<table border=\"1\" class=\"dataframe\">\n",
       "  <thead>\n",
       "    <tr style=\"text-align: right;\">\n",
       "      <th></th>\n",
       "      <th>X</th>\n",
       "      <th>Y</th>\n",
       "      <th>Pressure</th>\n",
       "      <th>TiltX</th>\n",
       "      <th>TiltY</th>\n",
       "      <th>Time</th>\n",
       "      <th>lag1</th>\n",
       "      <th>diff</th>\n",
       "    </tr>\n",
       "  </thead>\n",
       "  <tbody>\n",
       "    <tr>\n",
       "      <th>203</th>\n",
       "      <td>683.552373</td>\n",
       "      <td>307.756554</td>\n",
       "      <td>0.111803</td>\n",
       "      <td>-4823.0</td>\n",
       "      <td>3909.0</td>\n",
       "      <td>2022-06-12 00:11:54</td>\n",
       "      <td>2022-06-12 00:10:38</td>\n",
       "      <td>0 days 00:01:16</td>\n",
       "    </tr>\n",
       "    <tr>\n",
       "      <th>338</th>\n",
       "      <td>601.610348</td>\n",
       "      <td>455.420718</td>\n",
       "      <td>0.154040</td>\n",
       "      <td>-3668.0</td>\n",
       "      <td>934.0</td>\n",
       "      <td>2022-06-12 00:15:15</td>\n",
       "      <td>2022-06-12 00:13:26</td>\n",
       "      <td>0 days 00:01:49</td>\n",
       "    </tr>\n",
       "    <tr>\n",
       "      <th>484</th>\n",
       "      <td>964.188012</td>\n",
       "      <td>608.403742</td>\n",
       "      <td>0.076402</td>\n",
       "      <td>-4124.0</td>\n",
       "      <td>1973.0</td>\n",
       "      <td>2022-06-12 00:20:33</td>\n",
       "      <td>2022-06-12 00:16:50</td>\n",
       "      <td>0 days 00:03:43</td>\n",
       "    </tr>\n",
       "    <tr>\n",
       "      <th>578</th>\n",
       "      <td>844.434692</td>\n",
       "      <td>719.415175</td>\n",
       "      <td>0.043931</td>\n",
       "      <td>-4565.0</td>\n",
       "      <td>1165.0</td>\n",
       "      <td>2022-06-12 00:24:02</td>\n",
       "      <td>2022-06-12 00:21:35</td>\n",
       "      <td>0 days 00:02:27</td>\n",
       "    </tr>\n",
       "    <tr>\n",
       "      <th>689</th>\n",
       "      <td>789.297609</td>\n",
       "      <td>615.618432</td>\n",
       "      <td>0.135485</td>\n",
       "      <td>-3322.0</td>\n",
       "      <td>1537.0</td>\n",
       "      <td>2022-06-12 00:26:11</td>\n",
       "      <td>2022-06-12 00:25:17</td>\n",
       "      <td>0 days 00:00:54</td>\n",
       "    </tr>\n",
       "  </tbody>\n",
       "</table>\n",
       "</div>"
      ],
      "text/plain": [
       "              X           Y  Pressure   TiltX   TiltY                Time  \\\n",
       "203  683.552373  307.756554  0.111803 -4823.0  3909.0 2022-06-12 00:11:54   \n",
       "338  601.610348  455.420718  0.154040 -3668.0   934.0 2022-06-12 00:15:15   \n",
       "484  964.188012  608.403742  0.076402 -4124.0  1973.0 2022-06-12 00:20:33   \n",
       "578  844.434692  719.415175  0.043931 -4565.0  1165.0 2022-06-12 00:24:02   \n",
       "689  789.297609  615.618432  0.135485 -3322.0  1537.0 2022-06-12 00:26:11   \n",
       "\n",
       "                   lag1            diff  \n",
       "203 2022-06-12 00:10:38 0 days 00:01:16  \n",
       "338 2022-06-12 00:13:26 0 days 00:01:49  \n",
       "484 2022-06-12 00:16:50 0 days 00:03:43  \n",
       "578 2022-06-12 00:21:35 0 days 00:02:27  \n",
       "689 2022-06-12 00:25:17 0 days 00:00:54  "
      ]
     },
     "execution_count": 390,
     "metadata": {},
     "output_type": "execute_result"
    }
   ],
   "source": [
    "#We decided that handlift will count if the diffrence between one point and he \n",
    "stu[stu[\"diff\"] > stu[\"diff\"][1]*10]"
   ]
  },
  {
   "cell_type": "markdown",
   "id": "cbbb3eb0",
   "metadata": {},
   "source": [
    "###### Question C:"
   ]
  },
  {
   "cell_type": "code",
   "execution_count": 391,
   "id": "6dfd3214",
   "metadata": {},
   "outputs": [
    {
     "name": "stdout",
     "output_type": "stream",
     "text": [
      "Hand lifts: 5\n"
     ]
    }
   ],
   "source": [
    "print(\"Hand lifts:\", len(stu[stu[\"diff\"] > stu[\"diff\"][1]*10].dropna()))"
   ]
  },
  {
   "cell_type": "markdown",
   "id": "c9cda8a4",
   "metadata": {},
   "source": [
    "#### Making indexlist named handlift:"
   ]
  },
  {
   "cell_type": "code",
   "execution_count": 392,
   "id": "6c40cff1",
   "metadata": {
    "scrolled": true
   },
   "outputs": [
    {
     "data": {
      "text/plain": [
       "Int64Index([0, 203, 338, 484, 578, 689], dtype='int64')"
      ]
     },
     "execution_count": 392,
     "metadata": {},
     "output_type": "execute_result"
    }
   ],
   "source": [
    "#First, we will create our 'handlift' according to the way we calculated above.\n",
    "handlift = stu[stu[\"diff\"] > stu[\"diff\"][1]*10].index\n",
    "\n",
    "#Then we will insert the '0' index, cuz the draw start at this point.\n",
    "#The function 'union()' sorts automaticlly.\n",
    "handlift = handlift.union([0])\n",
    "handlift"
   ]
  },
  {
   "cell_type": "markdown",
   "id": "cd91d9ce",
   "metadata": {},
   "source": [
    "#### Making indexlist named totallines:"
   ]
  },
  {
   "cell_type": "code",
   "execution_count": 393,
   "id": "7ef261e9",
   "metadata": {},
   "outputs": [
    {
     "data": {
      "text/plain": [
       "Int64Index([0, 203, 338, 484, 578, 689], dtype='int64')"
      ]
     },
     "execution_count": 393,
     "metadata": {},
     "output_type": "execute_result"
    }
   ],
   "source": [
    "totallines = handlift\n",
    "totallines"
   ]
  },
  {
   "cell_type": "markdown",
   "id": "8d0b057b",
   "metadata": {},
   "source": [
    "# Graph viewing"
   ]
  },
  {
   "cell_type": "code",
   "execution_count": 394,
   "id": "95ce1a8d",
   "metadata": {},
   "outputs": [],
   "source": [
    "#Those parametrs are only for visualization\n",
    "xmin = stu['X'].min() - 100\n",
    "xmax = stu['X'].max() + 100\n",
    "ymin = stu['Y'].min() - 100\n",
    "ymax = stu['Y'].max() + 100"
   ]
  },
  {
   "cell_type": "code",
   "execution_count": 395,
   "id": "4dd469e2",
   "metadata": {},
   "outputs": [
    {
     "data": {
      "text/plain": [
       "(500.293798360088, 1070.823420718328, 204.86014551333898, 819.415174962467)"
      ]
     },
     "execution_count": 395,
     "metadata": {},
     "output_type": "execute_result"
    },
    {
     "data": {
      "image/png": "[encoded data removed]",
      "text/plain": [
       "<Figure size 360x360 with 1 Axes>"
      ]
     },
     "metadata": {
      "needs_background": "light"
     },
     "output_type": "display_data"
    }
   ],
   "source": [
    "plt.figure(figsize=(5,5))\n",
    "plt.plot(stu['X'], stu['Y'], 'o', color='lightsteelblue')\n",
    "ax = plt.gca()\n",
    "plt.axis([xmin, xmax, ymin, ymax])"
   ]
  },
  {
   "cell_type": "markdown",
   "id": "0cfde500",
   "metadata": {},
   "source": [
    "##### This graph includes a thick line whenever the hand lifted"
   ]
  },
  {
   "cell_type": "code",
   "execution_count": 396,
   "id": "dfd9d89b",
   "metadata": {},
   "outputs": [],
   "source": [
    "def part_print(x1, x2):\n",
    "    plt.figure(figsize=(5,5))\n",
    "    plt.plot(stu['X'][x1:x2], stu['Y'][x1:x2], 'o', mew=2)\n",
    "    ax = plt.gca()\n",
    "    plt.axis([xmin, xmax, ymin, ymax])\n",
    "    plt.title(x1)"
   ]
  },
  {
   "cell_type": "markdown",
   "id": "7c605ce7",
   "metadata": {},
   "source": [
    "# Counting Lines"
   ]
  },
  {
   "cell_type": "markdown",
   "id": "2b8787c2",
   "metadata": {},
   "source": [
    "### Helpful functions:"
   ]
  },
  {
   "cell_type": "code",
   "execution_count": 397,
   "id": "bbe4424e",
   "metadata": {},
   "outputs": [],
   "source": [
    "#The function recives 2 points and returns the slope (SHIPUA) of the line bettwen them\n",
    "def slopee(p1, p2): \n",
    "    return (stu['Y'][p1]-stu['Y'][p2]) / (stu['X'][p1]-stu['X'][p2])"
   ]
  },
  {
   "cell_type": "code",
   "execution_count": 398,
   "id": "487254e5",
   "metadata": {},
   "outputs": [],
   "source": [
    "def avgLengthPres(p1, p2):\n",
    "    print(f'Average pressure: {stu.Pressure[p1:p2].mean()}, length: {np.sqrt(pow(stu.X[p1] - stu.X[p2], 2) + pow(stu.Y[p1] - stu.Y[p2], 2))}')"
   ]
  },
  {
   "cell_type": "code",
   "execution_count": 399,
   "id": "a04a66f6",
   "metadata": {},
   "outputs": [],
   "source": [
    "#The function recives a point and returns True if it is \"close\" to another point* in the draw\n",
    "#*Not including its continune\n",
    "def is_close(p1):\n",
    "    #We assume that 2 point are called \"close\" if their distance is \"DEFINED_CLOSE\" or closer.\n",
    "    SKIP = 40\n",
    "    DEFINED_CLOSE = 4\n",
    "    \n",
    "    if (p1 == 0):\n",
    "        #If there isn't a close point for the start of the draw, the draw is open.\n",
    "        if (len(stu[stu.index > stu.index[p1+SKIP]][abs(stu['X'].sub(stu['X'][p1])) <= DEFINED_CLOSE][abs(stu['Y'].sub(stu['Y'][p1])) <= DEFINED_CLOSE]) == 0):\n",
    "            print(\"error1\", p1)\n",
    "            return False\n",
    "    else:\n",
    "        #For each line that stop by lifting hand, check if there is a continune\n",
    "        if ((len(stu[stu.index > stu.index[p1-1]][abs(stu['X'].sub(stu['X'][p1])) <= DEFINED_CLOSE][abs(stu['Y'].sub(stu['Y'][p1])) <= DEFINED_CLOSE]) == 0)\n",
    "        and (len(stu[stu.index < stu.index[p1-1] - SKIP][abs(stu['X'].sub(stu['X'][p1])) <= DEFINED_CLOSE][abs(stu['Y'].sub(stu['Y'][p1])) <= DEFINED_CLOSE]) == 0)):\n",
    "            print(\"error2\", p2)\n",
    "            return False    \n",
    "        \n",
    "    return True"
   ]
  },
  {
   "cell_type": "markdown",
   "id": "ccf5b53b",
   "metadata": {},
   "source": [
    "# Counting lines"
   ]
  },
  {
   "cell_type": "markdown",
   "id": "1ce1816b",
   "metadata": {},
   "source": [
    "###### Question A:"
   ]
  },
  {
   "cell_type": "code",
   "execution_count": 400,
   "id": "cec2cacf",
   "metadata": {
    "scrolled": true
   },
   "outputs": [
    {
     "name": "stdout",
     "output_type": "stream",
     "text": [
      "Lines: 6\n"
     ]
    }
   ],
   "source": [
    "lines = len(handlift) #Count of lines till yet, which is counting of hand lifting.\n",
    "next = 0 #used as an index, always next = i+1\n",
    "\n",
    "#Those next 3 are set by us\n",
    "TAIL = 35 #Avoiding the great changes of the edges\n",
    "SKIP = TAIL #Insted of checking point\n",
    "STRIGHT = 0.7 #Number that we diagnosed to check diffrences between lines.\n",
    "    \n",
    "#print(\"Chosen tail:\", TAIL)\n",
    "\n",
    "#helpful functions:\n",
    "    #slopee(p1, p2) - Calculate the slope (SHIPUA) between 2 points.\n",
    "    #arctan(num) - Trigonomatric function\n",
    "\n",
    "if (len(handlift) > 1):          \n",
    "    for j in handlift[:-1]:\n",
    "        next += 1\n",
    "        for i in range(j, handlift[next]-2*TAIL, SKIP):\n",
    "            x1 = i\n",
    "            x2 = i+SKIP\n",
    "            #print(\"(\", x1, \",\" ,x2, \"): angle: \", abs(np.arctan(slopee(x1, x2))))\n",
    "            \n",
    "            if (abs((abs(np.arctan(slopee(x1, x2)))) - (abs(np.arctan(slopee(x1+SKIP, x2+SKIP))))) > STRIGHT):\n",
    "                #print(\"here!\")\n",
    "                totallines = totallines.union([i+SKIP])\n",
    "                lines += 1\n",
    "#print(\"--------------------------\")\n",
    "#Now we will check the part last part:\n",
    "for i in range(handlift[next], len(stu)-TAIL, SKIP):      \n",
    "        x1 = i\n",
    "        x2 = i+SKIP           \n",
    "        #print(\"(\", x1, \",\" ,x2, \"): angle: \", abs(np.arctan(slopee(x1, x2))))\n",
    "        \n",
    "        if (abs((abs(np.arctan(slopee(x1, x2)))) - (abs(np.arctan(slopee(x1+SKIP, x2+SKIP))))) > STRIGHT):\n",
    "                #print(\"here!\")\n",
    "                totallines = totallines.union([i+SKIP])\n",
    "                lines += 1\n",
    "                \n",
    "        if (x2 >= len(stu)-2*TAIL):\n",
    "            #print(\"stop\")\n",
    "            break\n",
    "        \n",
    "print(f'Lines: {lines}')"
   ]
  },
  {
   "cell_type": "markdown",
   "id": "104e37c9",
   "metadata": {},
   "source": [
    "## Now we can use visualization for the lines"
   ]
  },
  {
   "cell_type": "code",
   "execution_count": 401,
   "id": "b1a68d59",
   "metadata": {
    "scrolled": true
   },
   "outputs": [
    {
     "name": "stdout",
     "output_type": "stream",
     "text": [
      "Int64Index([0, 203, 338, 484, 578, 689], dtype='int64')\n",
      "Int64Index([0, 203, 338, 484, 578, 689], dtype='int64')\n"
     ]
    }
   ],
   "source": [
    "print(handlift)\n",
    "print(totallines)"
   ]
  },
  {
   "cell_type": "code",
   "execution_count": 411,
   "id": "d5bec4ec",
   "metadata": {
    "scrolled": false
   },
   "outputs": [
    {
     "data": {
      "text/plain": [
       "(500.293798360088, 1070.823420718328, 204.86014551333898, 819.415174962467)"
      ]
     },
     "execution_count": 411,
     "metadata": {},
     "output_type": "execute_result"
    },
    {
     "data": {
      "image/png": "[encoded data removed]",
      "text/plain": [
       "<Figure size 360x360 with 1 Axes>"
      ]
     },
     "metadata": {
      "needs_background": "light"
     },
     "output_type": "display_data"
    }
   ],
   "source": [
    "plt.figure(figsize=(5,5))\n",
    "plt.plot(stu['X'], stu['Y'], 'o', color='lightsteelblue')\n",
    "\n",
    "plt.plot(stu['X'][handlift], stu['Y'][handlift], 'o', color = 'blue', mew=10, label='Hand Lift')\n",
    "\n",
    "plt.plot(stu['X'][totallines], stu['Y'][totallines], 'o', color = 'goldenrod', mew=5, label='New Line')\n",
    "\n",
    "plt.plot(stu['X'][0], stu['Y'][0], 'or', mew=5, label='Start Point')\n",
    "\n",
    "plt.legend()\n",
    "\n",
    "ax = plt.gca()\n",
    "plt.axis([xmin, xmax, ymin, ymax])"
   ]
  },
  {
   "cell_type": "markdown",
   "id": "5d4c155d",
   "metadata": {},
   "source": [
    "# Calculating average and pressure for each line"
   ]
  },
  {
   "cell_type": "markdown",
   "id": "51d8f2ec",
   "metadata": {},
   "source": [
    "###### Question B:"
   ]
  },
  {
   "cell_type": "code",
   "execution_count": 404,
   "id": "10d23607",
   "metadata": {
    "scrolled": true
   },
   "outputs": [
    {
     "name": "stdout",
     "output_type": "stream",
     "text": [
      "Line 1:\n",
      "Average pressure: 0.7995093754800082, length: 416.2206503527214\n",
      "Line 2:\n",
      "Average pressure: 0.5203974143222526, length: 168.87628912704747\n",
      "Line 3:\n",
      "Average pressure: 0.687324668548695, length: 393.5306449508569\n",
      "Line 4:\n",
      "Average pressure: 0.572168193599011, length: 163.29236359597147\n",
      "Line 5:\n",
      "Average pressure: 0.5845301088180628, length: 117.53238623544027\n",
      "Line 6:\n",
      "Average pressure: 0.6658385200708201, length: 142.5608556663242\n"
     ]
    }
   ],
   "source": [
    "next = 1\n",
    "\n",
    "#Why if? cuz the last line is untill the end of the draw, which its index is not in \"totallines\"\n",
    "if (len(totallines) > 1):\n",
    "    for line in totallines[:-1]:\n",
    "        print(f'Line {next}:')\n",
    "        avgLengthPres(line, totallines[next])\n",
    "        next += 1\n",
    "        \n",
    "print(f'Line {next}:')\n",
    "avgLengthPres(totallines[-1], len(stu)-1)"
   ]
  },
  {
   "cell_type": "markdown",
   "id": "126a25c1",
   "metadata": {},
   "source": [
    "# Is the draw opened or closed?"
   ]
  },
  {
   "cell_type": "markdown",
   "id": "fa3992c5",
   "metadata": {},
   "source": [
    "###### Question D:"
   ]
  },
  {
   "cell_type": "code",
   "execution_count": 406,
   "id": "da0af12c",
   "metadata": {},
   "outputs": [
    {
     "name": "stdout",
     "output_type": "stream",
     "text": [
      "The draw is closed\n"
     ]
    }
   ],
   "source": [
    "flag = True\n",
    "for lift in handlift:\n",
    "    if (is_close(lift) == False):\n",
    "        flag = False\n",
    "        break\n",
    "if (flag):\n",
    "    print(\"The draw is closed\")\n",
    "else:\n",
    "    print(\"The draw is opened\")"
   ]
  }
 ],
 "metadata": {
  "kernelspec": {
   "display_name": "Python 3",
   "language": "python",
   "name": "python3"
  },
  "language_info": {
   "codemirror_mode": {
    "name": "ipython",
    "version": 3
   },
   "file_extension": ".py",
   "mimetype": "text/x-python",
   "name": "python",
   "nbconvert_exporter": "python",
   "pygments_lexer": "ipython3",
   "version": "3.8.8"
  }
 },
 "nbformat": 4,
 "nbformat_minor": 5
}
