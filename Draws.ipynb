{
 "cells": [
  {
   "cell_type": "code",
   "execution_count": 3,
   "id": "7b20f35c",
   "metadata": {},
   "outputs": [],
   "source": [
    "import numpy as np\n",
    "import pandas as pd\n",
    "import matplotlib.pyplot as plt\n",
    "import seaborn as sns\n",
    "\n",
    "import warnings\n",
    "warnings.filterwarnings('ignore')"
   ]
  },
  {
   "cell_type": "code",
   "execution_count": 49,
   "id": "bd2f262e",
   "metadata": {},
   "outputs": [],
   "source": [
    "csv1 = pd.read_csv(r'C:\\Users\\97258\\OneDrive - Ariel University\\avoav\\הדמיית נתונים סמסטר ב\\train\\train\\7554\\SimpleTest\\10.csv', parse_dates=[' Time'])"
   ]
  },
  {
   "cell_type": "code",
   "execution_count": 50,
   "id": "f68dd33d",
   "metadata": {},
   "outputs": [
    {
     "name": "stdout",
     "output_type": "stream",
     "text": [
      "Len: 1231\n",
      "<class 'pandas.core.frame.DataFrame'>\n",
      "RangeIndex: 1231 entries, 0 to 1230\n",
      "Data columns (total 6 columns):\n",
      " #   Column     Non-Null Count  Dtype         \n",
      "---  ------     --------------  -----         \n",
      " 0   X          1231 non-null   object        \n",
      " 1    Y         1229 non-null   float64       \n",
      " 2    Pressure  1229 non-null   float64       \n",
      " 3    TiltX     1229 non-null   float64       \n",
      " 4    TiltY     1229 non-null   float64       \n",
      " 5    Time      1229 non-null   datetime64[ns]\n",
      "dtypes: datetime64[ns](1), float64(4), object(1)\n",
      "memory usage: 57.8+ KB\n"
     ]
    }
   ],
   "source": [
    "\n",
    "print(\"Len:\", len(csv1))\n",
    "csv1.info()\n"
   ]
  },
  {
   "cell_type": "code",
   "execution_count": 51,
   "id": "ef8323d1",
   "metadata": {},
   "outputs": [
    {
     "data": {
      "text/plain": [
       "Index(['X', ' Y', ' Pressure', ' TiltX', ' TiltY', ' Time'], dtype='object')"
      ]
     },
     "execution_count": 51,
     "metadata": {},
     "output_type": "execute_result"
    }
   ],
   "source": [
    "csv1.columns"
   ]
  },
  {
   "cell_type": "code",
   "execution_count": 52,
   "id": "8b854519",
   "metadata": {},
   "outputs": [
    {
     "data": {
      "text/plain": [
       "Index(['X', 'Y', 'Pressure', 'TiltX', 'TiltY', 'Time'], dtype='object')"
      ]
     },
     "execution_count": 52,
     "metadata": {},
     "output_type": "execute_result"
    }
   ],
   "source": [
    "#Fixing the space before any column title:\n",
    "csv1.columns = ['X', 'Y', 'Pressure', 'TiltX', 'TiltY', 'Time']\n",
    "csv1.columns"
   ]
  },
  {
   "cell_type": "code",
   "execution_count": 53,
   "id": "aa68dd32",
   "metadata": {},
   "outputs": [],
   "source": [
    "def rename_column (csv):\n",
    "    csv.rename(columns = {' Y':'Y' , ' TiltX':'TiltX' , ' Pressure':'Pressure', ' TiltY':'TiltY' , ' Time':'Time'}, inplace = True)"
   ]
  },
  {
   "cell_type": "markdown",
   "id": "8d72ecfe",
   "metadata": {},
   "source": [
    "# Converting 'X' to float"
   ]
  },
  {
   "cell_type": "code",
   "execution_count": 54,
   "id": "08e79f2a",
   "metadata": {},
   "outputs": [
    {
     "data": {
      "text/plain": [
       "str"
      ]
     },
     "execution_count": 54,
     "metadata": {},
     "output_type": "execute_result"
    }
   ],
   "source": [
    "#'X' col type is str.\n",
    "type(csv1['X'][0])"
   ]
  },
  {
   "cell_type": "code",
   "execution_count": 55,
   "id": "1b0fe2cf",
   "metadata": {},
   "outputs": [
    {
     "data": {
      "text/html": [
       "<div>\n",
       "<style scoped>\n",
       "    .dataframe tbody tr th:only-of-type {\n",
       "        vertical-align: middle;\n",
       "    }\n",
       "\n",
       "    .dataframe tbody tr th {\n",
       "        vertical-align: top;\n",
       "    }\n",
       "\n",
       "    .dataframe thead th {\n",
       "        text-align: right;\n",
       "    }\n",
       "</style>\n",
       "<table border=\"1\" class=\"dataframe\">\n",
       "  <thead>\n",
       "    <tr style=\"text-align: right;\">\n",
       "      <th></th>\n",
       "      <th>X</th>\n",
       "      <th>Y</th>\n",
       "      <th>Pressure</th>\n",
       "      <th>TiltX</th>\n",
       "      <th>TiltY</th>\n",
       "      <th>Time</th>\n",
       "    </tr>\n",
       "  </thead>\n",
       "  <tbody>\n",
       "    <tr>\n",
       "      <th>1229</th>\n",
       "      <td>Time Elapsed till drawing started: 00:03.4787405</td>\n",
       "      <td>NaN</td>\n",
       "      <td>NaN</td>\n",
       "      <td>NaN</td>\n",
       "      <td>NaN</td>\n",
       "      <td>NaT</td>\n",
       "    </tr>\n",
       "    <tr>\n",
       "      <th>1230</th>\n",
       "      <td>Time Elapsed till drawing submit: 00:49.7523306</td>\n",
       "      <td>NaN</td>\n",
       "      <td>NaN</td>\n",
       "      <td>NaN</td>\n",
       "      <td>NaN</td>\n",
       "      <td>NaT</td>\n",
       "    </tr>\n",
       "  </tbody>\n",
       "</table>\n",
       "</div>"
      ],
      "text/plain": [
       "                                                     X   Y  Pressure  TiltX  \\\n",
       "1229  Time Elapsed till drawing started: 00:03.4787405 NaN       NaN    NaN   \n",
       "1230   Time Elapsed till drawing submit: 00:49.7523306 NaN       NaN    NaN   \n",
       "\n",
       "      TiltY Time  \n",
       "1229    NaN  NaT  \n",
       "1230    NaN  NaT  "
      ]
     },
     "execution_count": 55,
     "metadata": {},
     "output_type": "execute_result"
    }
   ],
   "source": [
    "#This happens cuz the last 2 rows, which are a summery\n",
    "csv1[-2:]"
   ]
  },
  {
   "cell_type": "code",
   "execution_count": 56,
   "id": "d5ecb230",
   "metadata": {},
   "outputs": [
    {
     "data": {
      "text/html": [
       "<div>\n",
       "<style scoped>\n",
       "    .dataframe tbody tr th:only-of-type {\n",
       "        vertical-align: middle;\n",
       "    }\n",
       "\n",
       "    .dataframe tbody tr th {\n",
       "        vertical-align: top;\n",
       "    }\n",
       "\n",
       "    .dataframe thead th {\n",
       "        text-align: right;\n",
       "    }\n",
       "</style>\n",
       "<table border=\"1\" class=\"dataframe\">\n",
       "  <thead>\n",
       "    <tr style=\"text-align: right;\">\n",
       "      <th></th>\n",
       "      <th>X</th>\n",
       "      <th>Y</th>\n",
       "      <th>Pressure</th>\n",
       "      <th>TiltX</th>\n",
       "      <th>TiltY</th>\n",
       "      <th>Time</th>\n",
       "    </tr>\n",
       "  </thead>\n",
       "  <tbody>\n",
       "    <tr>\n",
       "      <th>1224</th>\n",
       "      <td>1050.29033375678</td>\n",
       "      <td>383.905763</td>\n",
       "      <td>0.566400</td>\n",
       "      <td>-535.0</td>\n",
       "      <td>1786.0</td>\n",
       "      <td>2022-06-13 00:36:41</td>\n",
       "    </tr>\n",
       "    <tr>\n",
       "      <th>1225</th>\n",
       "      <td>1050.02702390576</td>\n",
       "      <td>383.695115</td>\n",
       "      <td>0.563470</td>\n",
       "      <td>-535.0</td>\n",
       "      <td>1786.0</td>\n",
       "      <td>2022-06-13 00:36:41</td>\n",
       "    </tr>\n",
       "    <tr>\n",
       "      <th>1226</th>\n",
       "      <td>1050.02702390576</td>\n",
       "      <td>383.695115</td>\n",
       "      <td>0.555657</td>\n",
       "      <td>-535.0</td>\n",
       "      <td>1786.0</td>\n",
       "      <td>2022-06-13 00:36:42</td>\n",
       "    </tr>\n",
       "    <tr>\n",
       "      <th>1227</th>\n",
       "      <td>1049.71105208454</td>\n",
       "      <td>383.589791</td>\n",
       "      <td>0.532219</td>\n",
       "      <td>-535.0</td>\n",
       "      <td>1786.0</td>\n",
       "      <td>2022-06-13 00:36:43</td>\n",
       "    </tr>\n",
       "    <tr>\n",
       "      <th>1228</th>\n",
       "      <td>1048.65781268045</td>\n",
       "      <td>383.853101</td>\n",
       "      <td>0.286366</td>\n",
       "      <td>-535.0</td>\n",
       "      <td>1786.0</td>\n",
       "      <td>2022-06-13 00:36:43</td>\n",
       "    </tr>\n",
       "  </tbody>\n",
       "</table>\n",
       "</div>"
      ],
      "text/plain": [
       "                     X           Y  Pressure  TiltX   TiltY  \\\n",
       "1224  1050.29033375678  383.905763  0.566400 -535.0  1786.0   \n",
       "1225  1050.02702390576  383.695115  0.563470 -535.0  1786.0   \n",
       "1226  1050.02702390576  383.695115  0.555657 -535.0  1786.0   \n",
       "1227  1049.71105208454  383.589791  0.532219 -535.0  1786.0   \n",
       "1228  1048.65781268045  383.853101  0.286366 -535.0  1786.0   \n",
       "\n",
       "                    Time  \n",
       "1224 2022-06-13 00:36:41  \n",
       "1225 2022-06-13 00:36:41  \n",
       "1226 2022-06-13 00:36:42  \n",
       "1227 2022-06-13 00:36:43  \n",
       "1228 2022-06-13 00:36:43  "
      ]
     },
     "execution_count": 56,
     "metadata": {},
     "output_type": "execute_result"
    }
   ],
   "source": [
    "#If we remove them we can make 'X' col to float easly.\n",
    "stu = csv1[0:-2]\n",
    "stu.tail(5)"
   ]
  },
  {
   "cell_type": "code",
   "execution_count": 57,
   "id": "4308972a",
   "metadata": {},
   "outputs": [
    {
     "data": {
      "text/plain": [
       "numpy.float64"
      ]
     },
     "execution_count": 57,
     "metadata": {},
     "output_type": "execute_result"
    }
   ],
   "source": [
    "stu['X'] = pd.to_numeric(stu['X'], errors='coerce')\n",
    "type(stu['X'][3])"
   ]
  },
  {
   "cell_type": "markdown",
   "id": "33cd7fa3",
   "metadata": {},
   "source": [
    "# Adding 'diff' col"
   ]
  },
  {
   "cell_type": "code",
   "execution_count": 58,
   "id": "708c4054",
   "metadata": {},
   "outputs": [
    {
     "data": {
      "text/html": [
       "<div>\n",
       "<style scoped>\n",
       "    .dataframe tbody tr th:only-of-type {\n",
       "        vertical-align: middle;\n",
       "    }\n",
       "\n",
       "    .dataframe tbody tr th {\n",
       "        vertical-align: top;\n",
       "    }\n",
       "\n",
       "    .dataframe thead th {\n",
       "        text-align: right;\n",
       "    }\n",
       "</style>\n",
       "<table border=\"1\" class=\"dataframe\">\n",
       "  <thead>\n",
       "    <tr style=\"text-align: right;\">\n",
       "      <th></th>\n",
       "      <th>X</th>\n",
       "      <th>Y</th>\n",
       "      <th>Pressure</th>\n",
       "      <th>TiltX</th>\n",
       "      <th>TiltY</th>\n",
       "      <th>Time</th>\n",
       "      <th>lag1</th>\n",
       "    </tr>\n",
       "  </thead>\n",
       "  <tbody>\n",
       "    <tr>\n",
       "      <th>0</th>\n",
       "      <td>946.388267</td>\n",
       "      <td>798.408130</td>\n",
       "      <td>0.186999</td>\n",
       "      <td>-4447.0</td>\n",
       "      <td>1009.0</td>\n",
       "      <td>2022-06-13 00:03:28</td>\n",
       "      <td>NaT</td>\n",
       "    </tr>\n",
       "    <tr>\n",
       "      <th>1</th>\n",
       "      <td>946.862224</td>\n",
       "      <td>796.512299</td>\n",
       "      <td>0.190906</td>\n",
       "      <td>-4447.0</td>\n",
       "      <td>1009.0</td>\n",
       "      <td>2022-06-13 00:03:29</td>\n",
       "      <td>2022-06-13 00:03:28</td>\n",
       "    </tr>\n",
       "    <tr>\n",
       "      <th>2</th>\n",
       "      <td>946.388267</td>\n",
       "      <td>794.774454</td>\n",
       "      <td>0.190417</td>\n",
       "      <td>-4199.0</td>\n",
       "      <td>927.0</td>\n",
       "      <td>2022-06-13 00:03:30</td>\n",
       "      <td>2022-06-13 00:03:29</td>\n",
       "    </tr>\n",
       "    <tr>\n",
       "      <th>3</th>\n",
       "      <td>945.598337</td>\n",
       "      <td>792.404666</td>\n",
       "      <td>0.223133</td>\n",
       "      <td>-4199.0</td>\n",
       "      <td>927.0</td>\n",
       "      <td>2022-06-13 00:03:31</td>\n",
       "      <td>2022-06-13 00:03:30</td>\n",
       "    </tr>\n",
       "    <tr>\n",
       "      <th>4</th>\n",
       "      <td>944.439774</td>\n",
       "      <td>789.613581</td>\n",
       "      <td>0.266835</td>\n",
       "      <td>-4199.0</td>\n",
       "      <td>927.0</td>\n",
       "      <td>2022-06-13 00:03:32</td>\n",
       "      <td>2022-06-13 00:03:31</td>\n",
       "    </tr>\n",
       "  </tbody>\n",
       "</table>\n",
       "</div>"
      ],
      "text/plain": [
       "            X           Y  Pressure   TiltX   TiltY                Time  \\\n",
       "0  946.388267  798.408130  0.186999 -4447.0  1009.0 2022-06-13 00:03:28   \n",
       "1  946.862224  796.512299  0.190906 -4447.0  1009.0 2022-06-13 00:03:29   \n",
       "2  946.388267  794.774454  0.190417 -4199.0   927.0 2022-06-13 00:03:30   \n",
       "3  945.598337  792.404666  0.223133 -4199.0   927.0 2022-06-13 00:03:31   \n",
       "4  944.439774  789.613581  0.266835 -4199.0   927.0 2022-06-13 00:03:32   \n",
       "\n",
       "                 lag1  \n",
       "0                 NaT  \n",
       "1 2022-06-13 00:03:28  \n",
       "2 2022-06-13 00:03:29  \n",
       "3 2022-06-13 00:03:30  \n",
       "4 2022-06-13 00:03:31  "
      ]
     },
     "execution_count": 58,
     "metadata": {},
     "output_type": "execute_result"
    }
   ],
   "source": [
    "stu[\"lag1\"] = stu['Time'].shift(periods = 1)\n",
    "stu.head()"
   ]
  },
  {
   "cell_type": "code",
   "execution_count": 59,
   "id": "6d6275b2",
   "metadata": {},
   "outputs": [
    {
     "data": {
      "text/html": [
       "<div>\n",
       "<style scoped>\n",
       "    .dataframe tbody tr th:only-of-type {\n",
       "        vertical-align: middle;\n",
       "    }\n",
       "\n",
       "    .dataframe tbody tr th {\n",
       "        vertical-align: top;\n",
       "    }\n",
       "\n",
       "    .dataframe thead th {\n",
       "        text-align: right;\n",
       "    }\n",
       "</style>\n",
       "<table border=\"1\" class=\"dataframe\">\n",
       "  <thead>\n",
       "    <tr style=\"text-align: right;\">\n",
       "      <th></th>\n",
       "      <th>X</th>\n",
       "      <th>Y</th>\n",
       "      <th>Pressure</th>\n",
       "      <th>TiltX</th>\n",
       "      <th>TiltY</th>\n",
       "      <th>Time</th>\n",
       "      <th>lag1</th>\n",
       "      <th>diff</th>\n",
       "    </tr>\n",
       "  </thead>\n",
       "  <tbody>\n",
       "    <tr>\n",
       "      <th>0</th>\n",
       "      <td>946.388267</td>\n",
       "      <td>798.408130</td>\n",
       "      <td>0.186999</td>\n",
       "      <td>-4447.0</td>\n",
       "      <td>1009.0</td>\n",
       "      <td>2022-06-13 00:03:28</td>\n",
       "      <td>NaT</td>\n",
       "      <td>NaT</td>\n",
       "    </tr>\n",
       "    <tr>\n",
       "      <th>1</th>\n",
       "      <td>946.862224</td>\n",
       "      <td>796.512299</td>\n",
       "      <td>0.190906</td>\n",
       "      <td>-4447.0</td>\n",
       "      <td>1009.0</td>\n",
       "      <td>2022-06-13 00:03:29</td>\n",
       "      <td>2022-06-13 00:03:28</td>\n",
       "      <td>0 days 00:00:01</td>\n",
       "    </tr>\n",
       "    <tr>\n",
       "      <th>2</th>\n",
       "      <td>946.388267</td>\n",
       "      <td>794.774454</td>\n",
       "      <td>0.190417</td>\n",
       "      <td>-4199.0</td>\n",
       "      <td>927.0</td>\n",
       "      <td>2022-06-13 00:03:30</td>\n",
       "      <td>2022-06-13 00:03:29</td>\n",
       "      <td>0 days 00:00:01</td>\n",
       "    </tr>\n",
       "    <tr>\n",
       "      <th>3</th>\n",
       "      <td>945.598337</td>\n",
       "      <td>792.404666</td>\n",
       "      <td>0.223133</td>\n",
       "      <td>-4199.0</td>\n",
       "      <td>927.0</td>\n",
       "      <td>2022-06-13 00:03:31</td>\n",
       "      <td>2022-06-13 00:03:30</td>\n",
       "      <td>0 days 00:00:01</td>\n",
       "    </tr>\n",
       "    <tr>\n",
       "      <th>4</th>\n",
       "      <td>944.439774</td>\n",
       "      <td>789.613581</td>\n",
       "      <td>0.266835</td>\n",
       "      <td>-4199.0</td>\n",
       "      <td>927.0</td>\n",
       "      <td>2022-06-13 00:03:32</td>\n",
       "      <td>2022-06-13 00:03:31</td>\n",
       "      <td>0 days 00:00:01</td>\n",
       "    </tr>\n",
       "  </tbody>\n",
       "</table>\n",
       "</div>"
      ],
      "text/plain": [
       "            X           Y  Pressure   TiltX   TiltY                Time  \\\n",
       "0  946.388267  798.408130  0.186999 -4447.0  1009.0 2022-06-13 00:03:28   \n",
       "1  946.862224  796.512299  0.190906 -4447.0  1009.0 2022-06-13 00:03:29   \n",
       "2  946.388267  794.774454  0.190417 -4199.0   927.0 2022-06-13 00:03:30   \n",
       "3  945.598337  792.404666  0.223133 -4199.0   927.0 2022-06-13 00:03:31   \n",
       "4  944.439774  789.613581  0.266835 -4199.0   927.0 2022-06-13 00:03:32   \n",
       "\n",
       "                 lag1            diff  \n",
       "0                 NaT             NaT  \n",
       "1 2022-06-13 00:03:28 0 days 00:00:01  \n",
       "2 2022-06-13 00:03:29 0 days 00:00:01  \n",
       "3 2022-06-13 00:03:30 0 days 00:00:01  \n",
       "4 2022-06-13 00:03:31 0 days 00:00:01  "
      ]
     },
     "execution_count": 59,
     "metadata": {},
     "output_type": "execute_result"
    }
   ],
   "source": [
    "stu[\"diff\"] = stu['Time'].sub(stu[\"lag1\"])\n",
    "stu.head(5)"
   ]
  },
  {
   "cell_type": "code",
   "execution_count": 60,
   "id": "c36bc3eb",
   "metadata": {},
   "outputs": [
    {
     "name": "stdout",
     "output_type": "stream",
     "text": [
      "0 days 00:00:00\n",
      "0 days 00:00:01\n",
      "0 days 00:00:02\n"
     ]
    }
   ],
   "source": [
    "#Let's make time units of measurement (for comparison)\n",
    "op1 = stu[\"diff\"][1] - stu[\"diff\"][1] #0.00\n",
    "op2 = stu[\"diff\"][1] #0.01\n",
    "op3 = stu[\"diff\"][1] + stu[\"diff\"][1] #0.02\n",
    "print(op1)\n",
    "print(op2)\n",
    "print(op3)"
   ]
  },
  {
   "cell_type": "code",
   "execution_count": 61,
   "id": "a3d6fbcc",
   "metadata": {},
   "outputs": [
    {
     "data": {
      "text/html": [
       "<div>\n",
       "<style scoped>\n",
       "    .dataframe tbody tr th:only-of-type {\n",
       "        vertical-align: middle;\n",
       "    }\n",
       "\n",
       "    .dataframe tbody tr th {\n",
       "        vertical-align: top;\n",
       "    }\n",
       "\n",
       "    .dataframe thead th {\n",
       "        text-align: right;\n",
       "    }\n",
       "</style>\n",
       "<table border=\"1\" class=\"dataframe\">\n",
       "  <thead>\n",
       "    <tr style=\"text-align: right;\">\n",
       "      <th></th>\n",
       "      <th>X</th>\n",
       "      <th>Y</th>\n",
       "      <th>Pressure</th>\n",
       "      <th>TiltX</th>\n",
       "      <th>TiltY</th>\n",
       "      <th>Time</th>\n",
       "      <th>lag1</th>\n",
       "      <th>diff</th>\n",
       "    </tr>\n",
       "  </thead>\n",
       "  <tbody>\n",
       "    <tr>\n",
       "      <th>42</th>\n",
       "      <td>906.049197</td>\n",
       "      <td>729.157639</td>\n",
       "      <td>0.043931</td>\n",
       "      <td>-4139.0</td>\n",
       "      <td>1195.0</td>\n",
       "      <td>2022-06-13 00:06:01</td>\n",
       "      <td>2022-06-13 00:03:56</td>\n",
       "      <td>0 days 00:02:05</td>\n",
       "    </tr>\n",
       "    <tr>\n",
       "      <th>176</th>\n",
       "      <td>949.284675</td>\n",
       "      <td>795.564384</td>\n",
       "      <td>0.032456</td>\n",
       "      <td>-4226.0</td>\n",
       "      <td>1130.0</td>\n",
       "      <td>2022-06-13 00:08:25</td>\n",
       "      <td>2022-06-13 00:07:35</td>\n",
       "      <td>0 days 00:00:50</td>\n",
       "    </tr>\n",
       "    <tr>\n",
       "      <th>306</th>\n",
       "      <td>612.985333</td>\n",
       "      <td>855.441044</td>\n",
       "      <td>0.013901</td>\n",
       "      <td>-3311.0</td>\n",
       "      <td>-635.0</td>\n",
       "      <td>2022-06-13 00:12:18</td>\n",
       "      <td>2022-06-13 00:10:06</td>\n",
       "      <td>0 days 00:02:12</td>\n",
       "    </tr>\n",
       "    <tr>\n",
       "      <th>534</th>\n",
       "      <td>1020.483659</td>\n",
       "      <td>621.095277</td>\n",
       "      <td>0.176013</td>\n",
       "      <td>-3022.0</td>\n",
       "      <td>-1957.0</td>\n",
       "      <td>2022-06-13 00:16:52</td>\n",
       "      <td>2022-06-13 00:14:49</td>\n",
       "      <td>0 days 00:02:03</td>\n",
       "    </tr>\n",
       "    <tr>\n",
       "      <th>701</th>\n",
       "      <td>629.099896</td>\n",
       "      <td>632.575586</td>\n",
       "      <td>0.153063</td>\n",
       "      <td>-3297.0</td>\n",
       "      <td>524.0</td>\n",
       "      <td>2022-06-13 00:20:05</td>\n",
       "      <td>2022-06-13 00:18:38</td>\n",
       "      <td>0 days 00:01:27</td>\n",
       "    </tr>\n",
       "    <tr>\n",
       "      <th>848</th>\n",
       "      <td>680.550641</td>\n",
       "      <td>711.779189</td>\n",
       "      <td>0.090806</td>\n",
       "      <td>-3063.0</td>\n",
       "      <td>10.0</td>\n",
       "      <td>2022-06-13 00:31:12</td>\n",
       "      <td>2022-06-13 00:21:38</td>\n",
       "      <td>0 days 00:09:34</td>\n",
       "    </tr>\n",
       "    <tr>\n",
       "      <th>1027</th>\n",
       "      <td>435.777803</td>\n",
       "      <td>444.993648</td>\n",
       "      <td>0.233875</td>\n",
       "      <td>-403.0</td>\n",
       "      <td>2547.0</td>\n",
       "      <td>2022-06-13 00:34:31</td>\n",
       "      <td>2022-06-13 00:33:07</td>\n",
       "      <td>0 days 00:01:24</td>\n",
       "    </tr>\n",
       "  </tbody>\n",
       "</table>\n",
       "</div>"
      ],
      "text/plain": [
       "                X           Y  Pressure   TiltX   TiltY                Time  \\\n",
       "42     906.049197  729.157639  0.043931 -4139.0  1195.0 2022-06-13 00:06:01   \n",
       "176    949.284675  795.564384  0.032456 -4226.0  1130.0 2022-06-13 00:08:25   \n",
       "306    612.985333  855.441044  0.013901 -3311.0  -635.0 2022-06-13 00:12:18   \n",
       "534   1020.483659  621.095277  0.176013 -3022.0 -1957.0 2022-06-13 00:16:52   \n",
       "701    629.099896  632.575586  0.153063 -3297.0   524.0 2022-06-13 00:20:05   \n",
       "848    680.550641  711.779189  0.090806 -3063.0    10.0 2022-06-13 00:31:12   \n",
       "1027   435.777803  444.993648  0.233875  -403.0  2547.0 2022-06-13 00:34:31   \n",
       "\n",
       "                    lag1            diff  \n",
       "42   2022-06-13 00:03:56 0 days 00:02:05  \n",
       "176  2022-06-13 00:07:35 0 days 00:00:50  \n",
       "306  2022-06-13 00:10:06 0 days 00:02:12  \n",
       "534  2022-06-13 00:14:49 0 days 00:02:03  \n",
       "701  2022-06-13 00:18:38 0 days 00:01:27  \n",
       "848  2022-06-13 00:21:38 0 days 00:09:34  \n",
       "1027 2022-06-13 00:33:07 0 days 00:01:24  "
      ]
     },
     "execution_count": 61,
     "metadata": {},
     "output_type": "execute_result"
    }
   ],
   "source": [
    "#We decided that handlift will count if the diffrence between one point and he\n",
    "stu[stu[\"diff\"] > (stu[\"diff\"][1]*10)]"
   ]
  },
  {
   "cell_type": "code",
   "execution_count": 62,
   "id": "2bef11a3",
   "metadata": {},
   "outputs": [
    {
     "name": "stdout",
     "output_type": "stream",
     "text": [
      "Hand lifts: 7\n"
     ]
    }
   ],
   "source": [
    "print(\"Hand lifts:\", len(stu[stu[\"diff\"] > stu[\"diff\"][1]*10].dropna()))"
   ]
  },
  {
   "cell_type": "markdown",
   "id": "10e9ad40",
   "metadata": {},
   "source": [
    " Making indexlist named handlift:"
   ]
  },
  {
   "cell_type": "code",
   "execution_count": 63,
   "id": "a4bb4084",
   "metadata": {},
   "outputs": [
    {
     "data": {
      "text/plain": [
       "Int64Index([0, 42, 176, 306, 534, 701, 848, 1027], dtype='int64')"
      ]
     },
     "execution_count": 63,
     "metadata": {},
     "output_type": "execute_result"
    }
   ],
   "source": [
    "#First, we will create our 'handlift' according to the way we calculated above.\n",
    "handlift = stu[stu[\"diff\"] > stu[\"diff\"][1]*10].index\n",
    "\n",
    "#Then we will insert the '0' index, cuz the draw start at this point.\n",
    "#The function 'union()' sorts automaticlly.\n",
    "handlift = handlift.union([0])\n",
    "handlift"
   ]
  },
  {
   "cell_type": "markdown",
   "id": "a04302c5",
   "metadata": {},
   "source": [
    "Making indexlist named totallines:\n"
   ]
  },
  {
   "cell_type": "code",
   "execution_count": 64,
   "id": "55e8515b",
   "metadata": {},
   "outputs": [
    {
     "data": {
      "text/plain": [
       "Int64Index([0, 42, 176, 306, 534, 701, 848, 1027], dtype='int64')"
      ]
     },
     "execution_count": 64,
     "metadata": {},
     "output_type": "execute_result"
    }
   ],
   "source": [
    "totallines = handlift\n",
    "totallines"
   ]
  },
  {
   "cell_type": "markdown",
   "id": "6b1d85fd",
   "metadata": {},
   "source": [
    "# Graph viewing   "
   ]
  },
  {
   "cell_type": "code",
   "execution_count": 65,
   "id": "de0f1aa0",
   "metadata": {},
   "outputs": [],
   "source": [
    "#Those parametrs are only for visualization\n",
    "xmin = stu['X'].min() - 100\n",
    "xmax = stu['X'].max() + 100\n",
    "ymin = stu['Y'].min() - 100\n",
    "ymax = stu['Y'].max() + 100\n"
   ]
  },
  {
   "cell_type": "code",
   "execution_count": 66,
   "id": "1126498c",
   "metadata": {},
   "outputs": [
    {
     "data": {
      "text/plain": [
       "(331.40685991454, 1164.87769950341, 276.849058782769, 955.441044000462)"
      ]
     },
     "execution_count": 66,
     "metadata": {},
     "output_type": "execute_result"
    },
    {
     "data": {
      "image/png": "[encoded data removed]",
      "text/plain": [
       "<Figure size 360x360 with 1 Axes>"
      ]
     },
     "metadata": {
      "needs_background": "light"
     },
     "output_type": "display_data"
    }
   ],
   "source": [
    "plt.figure(figsize=(5,5))\n",
    "plt.plot(stu['X'], stu['Y'], 'o', color='lightsteelblue')\n",
    "ax = plt.gca()\n",
    "plt.axis([xmin, xmax, ymin, ymax])"
   ]
  },
  {
   "cell_type": "raw",
   "id": "906a195a",
   "metadata": {},
   "source": [
    "This graph includes a thick line whenever the hand lifted:"
   ]
  },
  {
   "cell_type": "code",
   "execution_count": 67,
   "id": "5fcf34fc",
   "metadata": {},
   "outputs": [],
   "source": [
    "\n",
    "def part_print(x1, x2):\n",
    "    plt.figure(figsize=(5,5))\n",
    "    plt.plot(stu['X'][x1:x2], stu['Y'][x1:x2], '-o', mew=2)\n",
    "    ax = plt.gca()\n",
    "    plt.axis([xmin, xmax, ymin, ymax])\n",
    "    plt.title(x1)\n"
   ]
  },
  {
   "cell_type": "markdown",
   "id": "38ce8f78",
   "metadata": {},
   "source": [
    "# Counting Lines"
   ]
  },
  {
   "cell_type": "markdown",
   "id": "0fb9d71d",
   "metadata": {},
   "source": [
    "# Helpful functions:  "
   ]
  },
  {
   "cell_type": "code",
   "execution_count": 68,
   "id": "2fabaef7",
   "metadata": {},
   "outputs": [],
   "source": [
    "#The function recives 2 points and returns the slope (SHIPUA) of the line bettwen them\n",
    "def slopee(p1, p2): \n",
    "    return (stu['Y'][p1]-stu['Y'][p2]) / (stu['X'][p1]-stu['X'][p2])"
   ]
  },
  {
   "cell_type": "code",
   "execution_count": 69,
   "id": "4ad4420c",
   "metadata": {},
   "outputs": [],
   "source": [
    "def avgLengthPres(p1, p2):\n",
    "    print(f'Average pressure: {stu.Pressure[p1:p2].mean()}, length: {np.sqrt(pow(stu.X[p1] - stu.X[p2], 2) + pow(stu.Y[p1] - stu.Y[p2], 2))}')"
   ]
  },
  {
   "cell_type": "code",
   "execution_count": 70,
   "id": "0d5cb367",
   "metadata": {},
   "outputs": [],
   "source": [
    "#The function recives a point and returns True if it is \"close\" to another point* in the draw\n",
    "#*Not including its continune\n",
    "def is_close(p1):\n",
    "    #We assume that 2 point are called \"close\" if their distance is \"DEFINED_CLOSE\" or closer.\n",
    "    SKIP = 40\n",
    "    DEFINED_CLOSE = 4\n",
    "    \n",
    "    if (p1 == 0):\n",
    "        #If there isn't a close point for the start of the draw, the draw is open.\n",
    "        if (len(stu[stu.index > stu.index[p1+SKIP]][abs(stu['X'].sub(stu['X'][p1]))\n",
    "                <= DEFINED_CLOSE][abs(stu['Y'].sub(stu['Y'][p1])) <= DEFINED_CLOSE]) == 0):\n",
    "            #print(\"error1\", p1)\n",
    "            return False\n",
    "    else:\n",
    "        #For each line that stop by lifting hand, check if there is a continune\n",
    "        if ((len(stu[stu.index > stu.index[p1-1]][abs(stu['X'].sub(stu['X'][p1])) <= DEFINED_CLOSE]\n",
    "            [abs(stu['Y'].sub(stu['Y'][p1])) <= DEFINED_CLOSE]) == 0)\n",
    "            and \n",
    "            (len(stu[stu.index < stu.index[p1-1] - SKIP][abs(stu['X'].sub(stu['X'][p1]))\n",
    "            <= DEFINED_CLOSE][abs(stu['Y'].sub(stu['Y'][p1])) <= DEFINED_CLOSE]) == 0)):\n",
    "            #print(\"error2\", p2)\n",
    "            return False    \n",
    "        \n",
    "    return True"
   ]
  },
  {
   "cell_type": "markdown",
   "id": "0db32801",
   "metadata": {},
   "source": [
    "## Counting lines"
   ]
  },
  {
   "cell_type": "raw",
   "id": "a376e2d6",
   "metadata": {},
   "source": [
    "Question A:"
   ]
  },
  {
   "cell_type": "code",
   "execution_count": 71,
   "id": "aa14f932",
   "metadata": {},
   "outputs": [
    {
     "name": "stdout",
     "output_type": "stream",
     "text": [
      "Lines: 9\n"
     ]
    }
   ],
   "source": [
    "lines = len(handlift) #Count of lines till yet, which is counting of hand lifting.\n",
    "next = 0 #used as an index, always next = i+1\n",
    "\n",
    "#Those next 3 are set by us\n",
    "TAIL = 35 #Avoiding the great changes of the edges\n",
    "SKIP = TAIL #Insted of checking point\n",
    "STRIGHT = 0.7 #Number that we diagnosed to check diffrences between lines.\n",
    "    \n",
    "#print(\"Chosen tail:\", TAIL)\n",
    "\n",
    "#helpful functions:\n",
    "    #slopee(p1, p2) - Calculate the slope (SHIPUA) between 2 points.\n",
    "    #arctan(num) - Trigonomatric function\n",
    "\n",
    "if (len(handlift) > 1):          \n",
    "    for j in handlift[:-1]:\n",
    "        next += 1\n",
    "        for i in range(j, handlift[next]-2*TAIL, SKIP):\n",
    "            x1 = i\n",
    "            x2 = i+SKIP\n",
    "            #print(\"(\", x1, \",\" ,x2, \"): angle: \", abs(np.arctan(slopee(x1, x2))))\n",
    "            \n",
    "            if (abs((abs(np.arctan(slopee(x1, x2)))) - (abs(np.arctan(slopee(x1+SKIP, x2+SKIP))))) > STRIGHT):\n",
    "                #print(\"here!\")\n",
    "                totallines = totallines.union([i+SKIP])\n",
    "                lines += 1\n",
    "#print(\"--------------------------\")\n",
    "#Now we will check the part last part:\n",
    "for i in range(handlift[next], len(stu)-TAIL, SKIP):      \n",
    "        x1 = i\n",
    "        x2 = i+SKIP           \n",
    "        #print(\"(\", x1, \",\" ,x2, \"): angle: \", abs(np.arctan(slopee(x1, x2))))\n",
    "        \n",
    "        if (abs((abs(np.arctan(slopee(x1, x2)))) - (abs(np.arctan(slopee(x1+SKIP, x2+SKIP))))) > STRIGHT):\n",
    "                #print(\"here!\")\n",
    "                totallines = totallines.union([i+SKIP])\n",
    "                lines += 1\n",
    "                \n",
    "        if (x2 >= len(stu)-2*TAIL):\n",
    "            #print(\"stop\")\n",
    "            break\n",
    "        \n",
    "print(f'Lines: {lines}')"
   ]
  },
  {
   "cell_type": "markdown",
   "id": "80dea207",
   "metadata": {},
   "source": [
    "Now we can use visualization for the lines"
   ]
  },
  {
   "cell_type": "code",
   "execution_count": 72,
   "id": "8125d5af",
   "metadata": {},
   "outputs": [
    {
     "name": "stdout",
     "output_type": "stream",
     "text": [
      "Int64Index([0, 42, 176, 306, 534, 701, 848, 1027], dtype='int64')\n",
      "Int64Index([0, 42, 176, 306, 411, 534, 701, 848, 1027], dtype='int64')\n"
     ]
    }
   ],
   "source": [
    "\n",
    "print(handlift)\n",
    "print(totallines)"
   ]
  },
  {
   "cell_type": "code",
   "execution_count": 73,
   "id": "593eea56",
   "metadata": {},
   "outputs": [
    {
     "data": {
      "text/plain": [
       "(331.40685991454, 1164.87769950341, 276.849058782769, 955.441044000462)"
      ]
     },
     "execution_count": 73,
     "metadata": {},
     "output_type": "execute_result"
    },
    {
     "data": {
      "image/png": "[encoded data removed]",
      "text/plain": [
       "<Figure size 360x360 with 1 Axes>"
      ]
     },
     "metadata": {
      "needs_background": "light"
     },
     "output_type": "display_data"
    }
   ],
   "source": [
    "plt.figure(figsize=(5,5))\n",
    "plt.plot(stu['X'], stu['Y'], 'o', color='lightsteelblue')\n",
    "\n",
    "plt.plot(stu['X'][handlift], stu['Y'][handlift], 'o', color = 'blue', mew=10, label='Hand Lift')\n",
    "\n",
    "plt.plot(stu['X'][totallines], stu['Y'][totallines], 'o', color = 'goldenrod', mew=5, label='New Line')\n",
    "\n",
    "plt.plot(stu['X'][0], stu['Y'][0], 'or', mew=5, label='Start Point')\n",
    "\n",
    "plt.legend()\n",
    "\n",
    "ax = plt.gca()\n",
    "plt.axis([xmin, xmax, ymin, ymax])\n"
   ]
  },
  {
   "cell_type": "markdown",
   "id": "1ad7e485",
   "metadata": {},
   "source": [
    "# Calculating average and pressure for each line\n",
    "    "
   ]
  },
  {
   "cell_type": "markdown",
   "id": "587eff4d",
   "metadata": {},
   "source": [
    "Question B:"
   ]
  },
  {
   "cell_type": "code",
   "execution_count": 74,
   "id": "0f0fff2a",
   "metadata": {},
   "outputs": [
    {
     "name": "stdout",
     "output_type": "stream",
     "text": [
      "Line 1:\n",
      "Average pressure: 0.4742642105335281, length: 80.14281615140406\n",
      "Line 2:\n",
      "Average pressure: 0.565721868606868, length: 79.24116495495093\n",
      "Line 3:\n",
      "Average pressure: 0.4460815390715232, length: 341.58814627023276\n",
      "Line 4:\n",
      "Average pressure: 0.696644831768104, length: 160.52844817000496\n",
      "Line 5:\n",
      "Average pressure: 0.6950736271172036, length: 346.93818280849274\n",
      "Line 6:\n",
      "Average pressure: 0.5770396588448279, length: 391.55210011096625\n",
      "Line 7:\n",
      "Average pressure: 0.5765374358616718, length: 94.44781579040712\n",
      "Line 8:\n",
      "Average pressure: 0.517392078508212, length: 362.0611369631519\n",
      "Line 9:\n",
      "Average pressure: 0.5072025221526919, length: 615.9221316546394\n"
     ]
    }
   ],
   "source": [
    "next = 1\n",
    "\n",
    "#Why if? cuz the last line is untill the end of the draw, which its index is not in \"totallines\"\n",
    "if (len(totallines) > 1):\n",
    "    for line in totallines[:-1]:\n",
    "        print(f'Line {next}:')\n",
    "        avgLengthPres(line, totallines[next])\n",
    "        next += 1\n",
    "        \n",
    "print(f'Line {next}:')\n",
    "avgLengthPres(totallines[-1], len(stu)-1)"
   ]
  },
  {
   "cell_type": "markdown",
   "id": "93515f46",
   "metadata": {},
   "source": [
    "## Is the draw opened or closed?"
   ]
  },
  {
   "cell_type": "markdown",
   "id": "91cbaab8",
   "metadata": {},
   "source": [
    "Question D:"
   ]
  },
  {
   "cell_type": "code",
   "execution_count": 75,
   "id": "66b25d3e",
   "metadata": {},
   "outputs": [
    {
     "name": "stdout",
     "output_type": "stream",
     "text": [
      "The draw is closed\n"
     ]
    }
   ],
   "source": [
    " \n",
    "flag = True\n",
    "for lift in handlift:\n",
    "    if (is_close(lift) == False):\n",
    "        flag = False\n",
    "        break\n",
    "if (flag):\n",
    "    print(\"The draw is closed\")\n",
    "else:\n",
    "    print(\"The draw is opened\")"
   ]
  },
  {
   "cell_type": "code",
   "execution_count": null,
   "id": "833122da",
   "metadata": {},
   "outputs": [],
   "source": [
    "\n"
   ]
  },
  {
   "cell_type": "code",
   "execution_count": null,
   "id": "2d25ff83",
   "metadata": {},
   "outputs": [],
   "source": []
  }
 ],
 "metadata": {
  "kernelspec": {
   "display_name": "Python 3 (ipykernel)",
   "language": "python",
   "name": "python3"
  },
  "language_info": {
   "codemirror_mode": {
    "name": "ipython",
    "version": 3
   },
   "file_extension": ".py",
   "mimetype": "text/x-python",
   "name": "python",
   "nbconvert_exporter": "python",
   "pygments_lexer": "ipython3",
   "version": "3.10.4"
  }
 },
 "nbformat": 4,
 "nbformat_minor": 5
}
