{
 "cells": [
  {
   "cell_type": "code",
   "execution_count": 1,
   "id": "2545cc2b",
   "metadata": {},
   "outputs": [],
   "source": [
    "import numpy as np\n",
    "import pandas as pd\n",
    "import matplotlib.pyplot as plt\n",
    "import seaborn as sns\n",
    "\n",
    "import warnings\n",
    "warnings.filterwarnings('ignore')"
   ]
  },
  {
   "cell_type": "code",
   "execution_count": 306,
   "id": "12848900",
   "metadata": {},
   "outputs": [],
   "source": [
    "stu1 = pd.read_csv(r'C:\\Users\\Alon\\Downloads\\train\\train\\7554\\SimpleTest\\13.csv', parse_dates=[' Time'])"
   ]
  },
  {
   "cell_type": "markdown",
   "id": "591221e8",
   "metadata": {},
   "source": [
    "# Clearing DATA"
   ]
  },
  {
   "cell_type": "markdown",
   "id": "0e63cc5f",
   "metadata": {},
   "source": [
    "### Fixing Col's titles"
   ]
  },
  {
   "cell_type": "code",
   "execution_count": 307,
   "id": "3ada6a23",
   "metadata": {
    "scrolled": true
   },
   "outputs": [
    {
     "name": "stdout",
     "output_type": "stream",
     "text": [
      "Len: 1205\n",
      "<class 'pandas.core.frame.DataFrame'>\n",
      "RangeIndex: 1205 entries, 0 to 1204\n",
      "Data columns (total 6 columns):\n",
      " #   Column     Non-Null Count  Dtype         \n",
      "---  ------     --------------  -----         \n",
      " 0   X          1205 non-null   object        \n",
      " 1    Y         1203 non-null   float64       \n",
      " 2    Pressure  1203 non-null   float64       \n",
      " 3    TiltX     1203 non-null   float64       \n",
      " 4    TiltY     1203 non-null   float64       \n",
      " 5    Time      1203 non-null   datetime64[ns]\n",
      "dtypes: datetime64[ns](1), float64(4), object(1)\n",
      "memory usage: 56.6+ KB\n"
     ]
    }
   ],
   "source": [
    "print(\"Len:\", len(stu1))\n",
    "stu1.info()"
   ]
  },
  {
   "cell_type": "code",
   "execution_count": 308,
   "id": "54b6445a",
   "metadata": {},
   "outputs": [
    {
     "data": {
      "text/plain": [
       "Index(['X', 'Y', 'Pressure', 'TiltX', 'TiltY', 'Time'], dtype='object')"
      ]
     },
     "execution_count": 308,
     "metadata": {},
     "output_type": "execute_result"
    }
   ],
   "source": [
    "#Fixing the space before any column title:\n",
    "stu1.columns = ['X', 'Y', 'Pressure', 'TiltX', 'TiltY', 'Time']\n",
    "stu1.columns"
   ]
  },
  {
   "cell_type": "markdown",
   "id": "be7b91f4",
   "metadata": {},
   "source": [
    "### Converting 'X' to float"
   ]
  },
  {
   "cell_type": "code",
   "execution_count": 309,
   "id": "bb071065",
   "metadata": {},
   "outputs": [
    {
     "data": {
      "text/plain": [
       "str"
      ]
     },
     "execution_count": 309,
     "metadata": {},
     "output_type": "execute_result"
    }
   ],
   "source": [
    "#'X' col type is str.\n",
    "type(stu1['X'][0])"
   ]
  },
  {
   "cell_type": "code",
   "execution_count": 310,
   "id": "9d103277",
   "metadata": {},
   "outputs": [
    {
     "data": {
      "text/html": [
       "<div>\n",
       "<style scoped>\n",
       "    .dataframe tbody tr th:only-of-type {\n",
       "        vertical-align: middle;\n",
       "    }\n",
       "\n",
       "    .dataframe tbody tr th {\n",
       "        vertical-align: top;\n",
       "    }\n",
       "\n",
       "    .dataframe thead th {\n",
       "        text-align: right;\n",
       "    }\n",
       "</style>\n",
       "<table border=\"1\" class=\"dataframe\">\n",
       "  <thead>\n",
       "    <tr style=\"text-align: right;\">\n",
       "      <th></th>\n",
       "      <th>X</th>\n",
       "      <th>Y</th>\n",
       "      <th>Pressure</th>\n",
       "      <th>TiltX</th>\n",
       "      <th>TiltY</th>\n",
       "      <th>Time</th>\n",
       "    </tr>\n",
       "  </thead>\n",
       "  <tbody>\n",
       "    <tr>\n",
       "      <th>1203</th>\n",
       "      <td>Time Elapsed till drawing started: 00:13.4325736</td>\n",
       "      <td>NaN</td>\n",
       "      <td>NaN</td>\n",
       "      <td>NaN</td>\n",
       "      <td>NaN</td>\n",
       "      <td>NaT</td>\n",
       "    </tr>\n",
       "    <tr>\n",
       "      <th>1204</th>\n",
       "      <td>Time Elapsed till drawing submit: 00:36.5318738</td>\n",
       "      <td>NaN</td>\n",
       "      <td>NaN</td>\n",
       "      <td>NaN</td>\n",
       "      <td>NaN</td>\n",
       "      <td>NaT</td>\n",
       "    </tr>\n",
       "  </tbody>\n",
       "</table>\n",
       "</div>"
      ],
      "text/plain": [
       "                                                     X   Y  Pressure  TiltX  \\\n",
       "1203  Time Elapsed till drawing started: 00:13.4325736 NaN       NaN    NaN   \n",
       "1204   Time Elapsed till drawing submit: 00:36.5318738 NaN       NaN    NaN   \n",
       "\n",
       "      TiltY Time  \n",
       "1203    NaN  NaT  \n",
       "1204    NaN  NaT  "
      ]
     },
     "execution_count": 310,
     "metadata": {},
     "output_type": "execute_result"
    }
   ],
   "source": [
    "#This happens cuz the last 2 rows, which are a summery\n",
    "stu1[-2:]"
   ]
  },
  {
   "cell_type": "code",
   "execution_count": 311,
   "id": "861fb89d",
   "metadata": {},
   "outputs": [
    {
     "data": {
      "text/html": [
       "<div>\n",
       "<style scoped>\n",
       "    .dataframe tbody tr th:only-of-type {\n",
       "        vertical-align: middle;\n",
       "    }\n",
       "\n",
       "    .dataframe tbody tr th {\n",
       "        vertical-align: top;\n",
       "    }\n",
       "\n",
       "    .dataframe thead th {\n",
       "        text-align: right;\n",
       "    }\n",
       "</style>\n",
       "<table border=\"1\" class=\"dataframe\">\n",
       "  <thead>\n",
       "    <tr style=\"text-align: right;\">\n",
       "      <th></th>\n",
       "      <th>X</th>\n",
       "      <th>Y</th>\n",
       "      <th>Pressure</th>\n",
       "      <th>TiltX</th>\n",
       "      <th>TiltY</th>\n",
       "      <th>Time</th>\n",
       "    </tr>\n",
       "  </thead>\n",
       "  <tbody>\n",
       "    <tr>\n",
       "      <th>1198</th>\n",
       "      <td>367.159256265158</td>\n",
       "      <td>291.010047</td>\n",
       "      <td>0.733639</td>\n",
       "      <td>-1988.0</td>\n",
       "      <td>1259.0</td>\n",
       "      <td>2022-06-13 00:35:23</td>\n",
       "    </tr>\n",
       "    <tr>\n",
       "      <th>1199</th>\n",
       "      <td>371.372213881511</td>\n",
       "      <td>293.379836</td>\n",
       "      <td>0.685542</td>\n",
       "      <td>-1988.0</td>\n",
       "      <td>1259.0</td>\n",
       "      <td>2022-06-13 00:35:23</td>\n",
       "    </tr>\n",
       "    <tr>\n",
       "      <th>1200</th>\n",
       "      <td>372.583439196212</td>\n",
       "      <td>294.064442</td>\n",
       "      <td>0.667231</td>\n",
       "      <td>-1988.0</td>\n",
       "      <td>1259.0</td>\n",
       "      <td>2022-06-13 00:35:24</td>\n",
       "    </tr>\n",
       "    <tr>\n",
       "      <th>1201</th>\n",
       "      <td>376.480424991339</td>\n",
       "      <td>296.118258</td>\n",
       "      <td>0.608392</td>\n",
       "      <td>-1988.0</td>\n",
       "      <td>1259.0</td>\n",
       "      <td>2022-06-13 00:35:24</td>\n",
       "    </tr>\n",
       "    <tr>\n",
       "      <th>1202</th>\n",
       "      <td>377.849636216653</td>\n",
       "      <td>296.750202</td>\n",
       "      <td>0.558099</td>\n",
       "      <td>-1988.0</td>\n",
       "      <td>1259.0</td>\n",
       "      <td>2022-06-13 00:35:24</td>\n",
       "    </tr>\n",
       "  </tbody>\n",
       "</table>\n",
       "</div>"
      ],
      "text/plain": [
       "                     X           Y  Pressure   TiltX   TiltY  \\\n",
       "1198  367.159256265158  291.010047  0.733639 -1988.0  1259.0   \n",
       "1199  371.372213881511  293.379836  0.685542 -1988.0  1259.0   \n",
       "1200  372.583439196212  294.064442  0.667231 -1988.0  1259.0   \n",
       "1201  376.480424991339  296.118258  0.608392 -1988.0  1259.0   \n",
       "1202  377.849636216653  296.750202  0.558099 -1988.0  1259.0   \n",
       "\n",
       "                    Time  \n",
       "1198 2022-06-13 00:35:23  \n",
       "1199 2022-06-13 00:35:23  \n",
       "1200 2022-06-13 00:35:24  \n",
       "1201 2022-06-13 00:35:24  \n",
       "1202 2022-06-13 00:35:24  "
      ]
     },
     "execution_count": 311,
     "metadata": {},
     "output_type": "execute_result"
    }
   ],
   "source": [
    "#If we remove them we can make 'X' col to float easly.\n",
    "stu = stu1[0:-2]\n",
    "stu.tail(5)"
   ]
  },
  {
   "cell_type": "code",
   "execution_count": 312,
   "id": "4f711057",
   "metadata": {},
   "outputs": [
    {
     "data": {
      "text/plain": [
       "numpy.float64"
      ]
     },
     "execution_count": 312,
     "metadata": {},
     "output_type": "execute_result"
    }
   ],
   "source": [
    "stu['X'] = pd.to_numeric(stu['X'], errors='coerce')\n",
    "type(stu['X'][3])"
   ]
  },
  {
   "cell_type": "markdown",
   "id": "e944e6a0",
   "metadata": {},
   "source": [
    "## Adding 'diff' col"
   ]
  },
  {
   "cell_type": "code",
   "execution_count": 313,
   "id": "84a2b44d",
   "metadata": {
    "scrolled": true
   },
   "outputs": [
    {
     "data": {
      "text/html": [
       "<div>\n",
       "<style scoped>\n",
       "    .dataframe tbody tr th:only-of-type {\n",
       "        vertical-align: middle;\n",
       "    }\n",
       "\n",
       "    .dataframe tbody tr th {\n",
       "        vertical-align: top;\n",
       "    }\n",
       "\n",
       "    .dataframe thead th {\n",
       "        text-align: right;\n",
       "    }\n",
       "</style>\n",
       "<table border=\"1\" class=\"dataframe\">\n",
       "  <thead>\n",
       "    <tr style=\"text-align: right;\">\n",
       "      <th></th>\n",
       "      <th>X</th>\n",
       "      <th>Y</th>\n",
       "      <th>Pressure</th>\n",
       "      <th>TiltX</th>\n",
       "      <th>TiltY</th>\n",
       "      <th>Time</th>\n",
       "      <th>lag1</th>\n",
       "    </tr>\n",
       "  </thead>\n",
       "  <tbody>\n",
       "    <tr>\n",
       "      <th>0</th>\n",
       "      <td>713.411710</td>\n",
       "      <td>527.672941</td>\n",
       "      <td>0.290761</td>\n",
       "      <td>-4798.0</td>\n",
       "      <td>2043.0</td>\n",
       "      <td>2022-06-13 00:13:25</td>\n",
       "      <td>NaT</td>\n",
       "    </tr>\n",
       "    <tr>\n",
       "      <th>1</th>\n",
       "      <td>713.780344</td>\n",
       "      <td>527.462294</td>\n",
       "      <td>0.295644</td>\n",
       "      <td>-4798.0</td>\n",
       "      <td>2043.0</td>\n",
       "      <td>2022-06-13 00:13:26</td>\n",
       "      <td>2022-06-13 00:13:25</td>\n",
       "    </tr>\n",
       "    <tr>\n",
       "      <th>2</th>\n",
       "      <td>714.780922</td>\n",
       "      <td>526.777688</td>\n",
       "      <td>0.295644</td>\n",
       "      <td>-4798.0</td>\n",
       "      <td>2043.0</td>\n",
       "      <td>2022-06-13 00:13:27</td>\n",
       "      <td>2022-06-13 00:13:26</td>\n",
       "    </tr>\n",
       "    <tr>\n",
       "      <th>3</th>\n",
       "      <td>716.782076</td>\n",
       "      <td>524.934519</td>\n",
       "      <td>0.208728</td>\n",
       "      <td>-4798.0</td>\n",
       "      <td>2043.0</td>\n",
       "      <td>2022-06-13 00:13:28</td>\n",
       "      <td>2022-06-13 00:13:27</td>\n",
       "    </tr>\n",
       "    <tr>\n",
       "      <th>4</th>\n",
       "      <td>717.098048</td>\n",
       "      <td>523.775956</td>\n",
       "      <td>0.208728</td>\n",
       "      <td>-4798.0</td>\n",
       "      <td>2043.0</td>\n",
       "      <td>2022-06-13 00:13:29</td>\n",
       "      <td>2022-06-13 00:13:28</td>\n",
       "    </tr>\n",
       "  </tbody>\n",
       "</table>\n",
       "</div>"
      ],
      "text/plain": [
       "            X           Y  Pressure   TiltX   TiltY                Time  \\\n",
       "0  713.411710  527.672941  0.290761 -4798.0  2043.0 2022-06-13 00:13:25   \n",
       "1  713.780344  527.462294  0.295644 -4798.0  2043.0 2022-06-13 00:13:26   \n",
       "2  714.780922  526.777688  0.295644 -4798.0  2043.0 2022-06-13 00:13:27   \n",
       "3  716.782076  524.934519  0.208728 -4798.0  2043.0 2022-06-13 00:13:28   \n",
       "4  717.098048  523.775956  0.208728 -4798.0  2043.0 2022-06-13 00:13:29   \n",
       "\n",
       "                 lag1  \n",
       "0                 NaT  \n",
       "1 2022-06-13 00:13:25  \n",
       "2 2022-06-13 00:13:26  \n",
       "3 2022-06-13 00:13:27  \n",
       "4 2022-06-13 00:13:28  "
      ]
     },
     "execution_count": 313,
     "metadata": {},
     "output_type": "execute_result"
    }
   ],
   "source": [
    "stu[\"lag1\"] = stu['Time'].shift(periods = 1)\n",
    "stu.head()"
   ]
  },
  {
   "cell_type": "code",
   "execution_count": 314,
   "id": "d4bc12a8",
   "metadata": {
    "scrolled": false
   },
   "outputs": [
    {
     "data": {
      "text/html": [
       "<div>\n",
       "<style scoped>\n",
       "    .dataframe tbody tr th:only-of-type {\n",
       "        vertical-align: middle;\n",
       "    }\n",
       "\n",
       "    .dataframe tbody tr th {\n",
       "        vertical-align: top;\n",
       "    }\n",
       "\n",
       "    .dataframe thead th {\n",
       "        text-align: right;\n",
       "    }\n",
       "</style>\n",
       "<table border=\"1\" class=\"dataframe\">\n",
       "  <thead>\n",
       "    <tr style=\"text-align: right;\">\n",
       "      <th></th>\n",
       "      <th>X</th>\n",
       "      <th>Y</th>\n",
       "      <th>Pressure</th>\n",
       "      <th>TiltX</th>\n",
       "      <th>TiltY</th>\n",
       "      <th>Time</th>\n",
       "      <th>lag1</th>\n",
       "      <th>diff</th>\n",
       "    </tr>\n",
       "  </thead>\n",
       "  <tbody>\n",
       "    <tr>\n",
       "      <th>0</th>\n",
       "      <td>713.411710</td>\n",
       "      <td>527.672941</td>\n",
       "      <td>0.290761</td>\n",
       "      <td>-4798.0</td>\n",
       "      <td>2043.0</td>\n",
       "      <td>2022-06-13 00:13:25</td>\n",
       "      <td>NaT</td>\n",
       "      <td>NaT</td>\n",
       "    </tr>\n",
       "    <tr>\n",
       "      <th>1</th>\n",
       "      <td>713.780344</td>\n",
       "      <td>527.462294</td>\n",
       "      <td>0.295644</td>\n",
       "      <td>-4798.0</td>\n",
       "      <td>2043.0</td>\n",
       "      <td>2022-06-13 00:13:26</td>\n",
       "      <td>2022-06-13 00:13:25</td>\n",
       "      <td>0 days 00:00:01</td>\n",
       "    </tr>\n",
       "    <tr>\n",
       "      <th>2</th>\n",
       "      <td>714.780922</td>\n",
       "      <td>526.777688</td>\n",
       "      <td>0.295644</td>\n",
       "      <td>-4798.0</td>\n",
       "      <td>2043.0</td>\n",
       "      <td>2022-06-13 00:13:27</td>\n",
       "      <td>2022-06-13 00:13:26</td>\n",
       "      <td>0 days 00:00:01</td>\n",
       "    </tr>\n",
       "    <tr>\n",
       "      <th>3</th>\n",
       "      <td>716.782076</td>\n",
       "      <td>524.934519</td>\n",
       "      <td>0.208728</td>\n",
       "      <td>-4798.0</td>\n",
       "      <td>2043.0</td>\n",
       "      <td>2022-06-13 00:13:28</td>\n",
       "      <td>2022-06-13 00:13:27</td>\n",
       "      <td>0 days 00:00:01</td>\n",
       "    </tr>\n",
       "    <tr>\n",
       "      <th>4</th>\n",
       "      <td>717.098048</td>\n",
       "      <td>523.775956</td>\n",
       "      <td>0.208728</td>\n",
       "      <td>-4798.0</td>\n",
       "      <td>2043.0</td>\n",
       "      <td>2022-06-13 00:13:29</td>\n",
       "      <td>2022-06-13 00:13:28</td>\n",
       "      <td>0 days 00:00:01</td>\n",
       "    </tr>\n",
       "  </tbody>\n",
       "</table>\n",
       "</div>"
      ],
      "text/plain": [
       "            X           Y  Pressure   TiltX   TiltY                Time  \\\n",
       "0  713.411710  527.672941  0.290761 -4798.0  2043.0 2022-06-13 00:13:25   \n",
       "1  713.780344  527.462294  0.295644 -4798.0  2043.0 2022-06-13 00:13:26   \n",
       "2  714.780922  526.777688  0.295644 -4798.0  2043.0 2022-06-13 00:13:27   \n",
       "3  716.782076  524.934519  0.208728 -4798.0  2043.0 2022-06-13 00:13:28   \n",
       "4  717.098048  523.775956  0.208728 -4798.0  2043.0 2022-06-13 00:13:29   \n",
       "\n",
       "                 lag1            diff  \n",
       "0                 NaT             NaT  \n",
       "1 2022-06-13 00:13:25 0 days 00:00:01  \n",
       "2 2022-06-13 00:13:26 0 days 00:00:01  \n",
       "3 2022-06-13 00:13:27 0 days 00:00:01  \n",
       "4 2022-06-13 00:13:28 0 days 00:00:01  "
      ]
     },
     "execution_count": 314,
     "metadata": {},
     "output_type": "execute_result"
    }
   ],
   "source": [
    "stu[\"diff\"] = stu['Time'].sub(stu[\"lag1\"])\n",
    "stu.head(5)"
   ]
  },
  {
   "cell_type": "code",
   "execution_count": 315,
   "id": "70e21f1d",
   "metadata": {
    "scrolled": true
   },
   "outputs": [
    {
     "name": "stdout",
     "output_type": "stream",
     "text": [
      "0 days 00:00:00\n",
      "0 days 00:00:01\n",
      "0 days 00:00:02\n"
     ]
    }
   ],
   "source": [
    "#Let's make time units of measurement (for comparison)\n",
    "op1 = stu[\"diff\"][1] - stu[\"diff\"][1] #0.00\n",
    "op2 = stu[\"diff\"][1] #0.01\n",
    "op3 = stu[\"diff\"][1] + stu[\"diff\"][1] #0.02\n",
    "print(op1)\n",
    "print(op2)\n",
    "print(op3)"
   ]
  },
  {
   "cell_type": "code",
   "execution_count": 316,
   "id": "1395ca30",
   "metadata": {
    "scrolled": true
   },
   "outputs": [
    {
     "data": {
      "text/html": [
       "<div>\n",
       "<style scoped>\n",
       "    .dataframe tbody tr th:only-of-type {\n",
       "        vertical-align: middle;\n",
       "    }\n",
       "\n",
       "    .dataframe tbody tr th {\n",
       "        vertical-align: top;\n",
       "    }\n",
       "\n",
       "    .dataframe thead th {\n",
       "        text-align: right;\n",
       "    }\n",
       "</style>\n",
       "<table border=\"1\" class=\"dataframe\">\n",
       "  <thead>\n",
       "    <tr style=\"text-align: right;\">\n",
       "      <th></th>\n",
       "      <th>X</th>\n",
       "      <th>Y</th>\n",
       "      <th>Pressure</th>\n",
       "      <th>TiltX</th>\n",
       "      <th>TiltY</th>\n",
       "      <th>Time</th>\n",
       "      <th>lag1</th>\n",
       "      <th>diff</th>\n",
       "    </tr>\n",
       "  </thead>\n",
       "  <tbody>\n",
       "    <tr>\n",
       "      <th>148</th>\n",
       "      <td>695.769950</td>\n",
       "      <td>310.179005</td>\n",
       "      <td>0.214343</td>\n",
       "      <td>-3522.0</td>\n",
       "      <td>2485.0</td>\n",
       "      <td>2022-06-13 00:16:13</td>\n",
       "      <td>2022-06-13 00:15:09</td>\n",
       "      <td>0 days 00:01:04</td>\n",
       "    </tr>\n",
       "    <tr>\n",
       "      <th>312</th>\n",
       "      <td>730.895484</td>\n",
       "      <td>386.907495</td>\n",
       "      <td>0.045884</td>\n",
       "      <td>-4043.0</td>\n",
       "      <td>325.0</td>\n",
       "      <td>2022-06-13 00:22:47</td>\n",
       "      <td>2022-06-13 00:17:50</td>\n",
       "      <td>0 days 00:04:57</td>\n",
       "    </tr>\n",
       "    <tr>\n",
       "      <th>569</th>\n",
       "      <td>588.181545</td>\n",
       "      <td>285.322555</td>\n",
       "      <td>0.117174</td>\n",
       "      <td>-4674.0</td>\n",
       "      <td>2662.0</td>\n",
       "      <td>2022-06-13 00:26:45</td>\n",
       "      <td>2022-06-13 00:25:54</td>\n",
       "      <td>0 days 00:00:51</td>\n",
       "    </tr>\n",
       "    <tr>\n",
       "      <th>674</th>\n",
       "      <td>373.268045</td>\n",
       "      <td>285.743850</td>\n",
       "      <td>0.013901</td>\n",
       "      <td>-3592.0</td>\n",
       "      <td>2330.0</td>\n",
       "      <td>2022-06-13 00:29:52</td>\n",
       "      <td>2022-06-13 00:27:51</td>\n",
       "      <td>0 days 00:02:01</td>\n",
       "    </tr>\n",
       "  </tbody>\n",
       "</table>\n",
       "</div>"
      ],
      "text/plain": [
       "              X           Y  Pressure   TiltX   TiltY                Time  \\\n",
       "148  695.769950  310.179005  0.214343 -3522.0  2485.0 2022-06-13 00:16:13   \n",
       "312  730.895484  386.907495  0.045884 -4043.0   325.0 2022-06-13 00:22:47   \n",
       "569  588.181545  285.322555  0.117174 -4674.0  2662.0 2022-06-13 00:26:45   \n",
       "674  373.268045  285.743850  0.013901 -3592.0  2330.0 2022-06-13 00:29:52   \n",
       "\n",
       "                   lag1            diff  \n",
       "148 2022-06-13 00:15:09 0 days 00:01:04  \n",
       "312 2022-06-13 00:17:50 0 days 00:04:57  \n",
       "569 2022-06-13 00:25:54 0 days 00:00:51  \n",
       "674 2022-06-13 00:27:51 0 days 00:02:01  "
      ]
     },
     "execution_count": 316,
     "metadata": {},
     "output_type": "execute_result"
    }
   ],
   "source": [
    "#We decided that handlift will count if the diffrence between one point and he ***********************\n",
    "stu[stu[\"diff\"] > stu[\"diff\"][1]*10]"
   ]
  },
  {
   "cell_type": "markdown",
   "id": "dfc9fc14",
   "metadata": {},
   "source": [
    "###### Question C:"
   ]
  },
  {
   "cell_type": "code",
   "execution_count": 317,
   "id": "6dfd3214",
   "metadata": {},
   "outputs": [
    {
     "name": "stdout",
     "output_type": "stream",
     "text": [
      "Hand lifts: 4\n"
     ]
    }
   ],
   "source": [
    "print(\"Hand lifts:\", len(stu[stu[\"diff\"] > stu[\"diff\"][1]*10].dropna()))"
   ]
  },
  {
   "cell_type": "markdown",
   "id": "c9cda8a4",
   "metadata": {},
   "source": [
    "#### Making indexlist named handlift:"
   ]
  },
  {
   "cell_type": "code",
   "execution_count": 318,
   "id": "6c40cff1",
   "metadata": {
    "scrolled": true
   },
   "outputs": [
    {
     "data": {
      "text/plain": [
       "Int64Index([0, 148, 312, 569, 674], dtype='int64')"
      ]
     },
     "execution_count": 318,
     "metadata": {},
     "output_type": "execute_result"
    }
   ],
   "source": [
    "#First, we will create our 'handlift' according to the way we calculated above.\n",
    "handlift = stu[stu[\"diff\"] > stu[\"diff\"][1]*10].index\n",
    "\n",
    "#Then we will insert the '0' index, cuz the draw start at this point.\n",
    "#The function 'union()' sorts automaticlly.\n",
    "handlift = handlift.union([0])\n",
    "handlift"
   ]
  },
  {
   "cell_type": "markdown",
   "id": "cd91d9ce",
   "metadata": {},
   "source": [
    "#### Making indexlist named totallines:"
   ]
  },
  {
   "cell_type": "code",
   "execution_count": 319,
   "id": "7ef261e9",
   "metadata": {},
   "outputs": [
    {
     "data": {
      "text/plain": [
       "Int64Index([0, 148, 312, 569, 674], dtype='int64')"
      ]
     },
     "execution_count": 319,
     "metadata": {},
     "output_type": "execute_result"
    }
   ],
   "source": [
    "totallines = handlift\n",
    "totallines"
   ]
  },
  {
   "cell_type": "markdown",
   "id": "8d0b057b",
   "metadata": {},
   "source": [
    "# Graph viewing"
   ]
  },
  {
   "cell_type": "code",
   "execution_count": 320,
   "id": "95ce1a8d",
   "metadata": {},
   "outputs": [],
   "source": [
    "#Those parametrs are only for visualization\n",
    "xmin = stu['X'].min() - 100\n",
    "xmax = stu['X'].max() + 100\n",
    "ymin = stu['Y'].min() - 100\n",
    "ymax = stu['Y'].max() + 100"
   ]
  },
  {
   "cell_type": "code",
   "execution_count": 321,
   "id": "4dd469e2",
   "metadata": {},
   "outputs": [
    {
     "data": {
      "text/plain": [
       "(263.525580321053, 925.160411132925, 110.70054278785099, 647.368518304654)"
      ]
     },
     "execution_count": 321,
     "metadata": {},
     "output_type": "execute_result"
    },
    {
     "data": {
      "image/png": "[encoded data removed]",
      "text/plain": [
       "<Figure size 360x360 with 1 Axes>"
      ]
     },
     "metadata": {
      "needs_background": "light"
     },
     "output_type": "display_data"
    }
   ],
   "source": [
    "plt.figure(figsize=(5,5))\n",
    "plt.plot(stu['X'], stu['Y'], 'o', color='lightsteelblue')\n",
    "ax = plt.gca()\n",
    "plt.axis([xmin, xmax, ymin, ymax])"
   ]
  },
  {
   "cell_type": "markdown",
   "id": "0cfde500",
   "metadata": {},
   "source": [
    "##### This graph includes a thick line whenever the hand lifted"
   ]
  },
  {
   "cell_type": "code",
   "execution_count": 322,
   "id": "dfd9d89b",
   "metadata": {},
   "outputs": [],
   "source": [
    "#Helpful function that recives 2 points and return the draw between them.\n",
    "def part_print(x1, x2):\n",
    "    plt.figure(figsize=(5,5))\n",
    "    plt.plot(stu['X'][x1:x2], stu['Y'][x1:x2], 'o', mew=2)\n",
    "    ax = plt.gca()\n",
    "    plt.axis([xmin, xmax, ymin, ymax])\n",
    "    plt.title(x1)"
   ]
  },
  {
   "cell_type": "markdown",
   "id": "7c605ce7",
   "metadata": {},
   "source": [
    "# Counting Lines"
   ]
  },
  {
   "cell_type": "markdown",
   "id": "2b8787c2",
   "metadata": {},
   "source": [
    "### Helpful functions:"
   ]
  },
  {
   "cell_type": "code",
   "execution_count": 323,
   "id": "bbe4424e",
   "metadata": {},
   "outputs": [],
   "source": [
    "#The function recives 2 points and returns the slope (SHIPUA) of the line bettwen them\n",
    "def slopee(p1, p2): \n",
    "    return (stu['Y'][p1]-stu['Y'][p2]) / (stu['X'][p1]-stu['X'][p2])"
   ]
  },
  {
   "cell_type": "code",
   "execution_count": 324,
   "id": "487254e5",
   "metadata": {},
   "outputs": [],
   "source": [
    "#The function recives 2 points (in practice - a line) and return their length and avg pressure.\n",
    "def avgLengthPres(p1, p2):\n",
    "    print(f'Average pressure: {stu.Pressure[p1:p2].mean()}, length: {np.sqrt(pow(stu.X[p1] - stu.X[p2], 2) + pow(stu.Y[p1] - stu.Y[p2], 2))}')"
   ]
  },
  {
   "cell_type": "code",
   "execution_count": 326,
   "id": "445e6577",
   "metadata": {},
   "outputs": [],
   "source": [
    "#The function recives a point and returns True if it is \"close\" to another point* in the draw\n",
    "#*Not including its continune\n",
    "def is_close(p1):\n",
    "    #We assume that 2 point are called \"close\" if their distance is \"DEFINED_CLOSE\" or closer.\n",
    "    #We diagnosed 4 as the optimal value for DEFINED_CLOSE.\n",
    "    #1 and 2 are too small sometimes, so 3 is the minimum and we chose 4 for ensuring.\n",
    "    DEFINED_CLOSE = 4\n",
    "    \n",
    "    #SKIP is a range that we use to make sure our function will not count points such p1+1 as closed.\n",
    "    SKIP = 40    \n",
    "    \n",
    "    if (p1 == 0):\n",
    "        #If there isn't a close point for the start of the draw, the draw is open.\n",
    "        if (len(stu[stu.index > stu.index[p1+SKIP]][abs(stu['X'].sub(stu['X'][p1]))\n",
    "                <= DEFINED_CLOSE][abs(stu['Y'].sub(stu['Y'][p1])) <= DEFINED_CLOSE]) == 0):\n",
    "            #print(\"error1\", p1)\n",
    "            return False\n",
    "    else:\n",
    "        #For each line that stop by lifting hand, check if there is a continune\n",
    "        if ((len(stu[stu.index > stu.index[p1-1]][abs(stu['X'].sub(stu['X'][p1-1])) <= DEFINED_CLOSE]\n",
    "            [abs(stu['Y'].sub(stu['Y'][p1])) <= DEFINED_CLOSE]) == 0)\n",
    "            and \n",
    "            (len(stu[stu.index < stu.index[p1-1] - SKIP][abs(stu['X'].sub(stu['X'][p1-1]))\n",
    "            <= DEFINED_CLOSE][abs(stu['Y'].sub(stu['Y'][p1])) <= DEFINED_CLOSE]) == 0)):\n",
    "            #print(\"error2\", p1)\n",
    "            return False    \n",
    "    \n",
    "    return True"
   ]
  },
  {
   "cell_type": "markdown",
   "id": "ccf5b53b",
   "metadata": {},
   "source": [
    "## Counting:"
   ]
  },
  {
   "cell_type": "markdown",
   "id": "ed483b97",
   "metadata": {},
   "source": [
    "###### Question A:"
   ]
  },
  {
   "cell_type": "code",
   "execution_count": 327,
   "id": "cec2cacf",
   "metadata": {
    "scrolled": true
   },
   "outputs": [
    {
     "name": "stdout",
     "output_type": "stream",
     "text": [
      "Lines: 9\n"
     ]
    }
   ],
   "source": [
    "lines = len(handlift) #The count of lines till yet, which is equal to the count of hand lifting.\n",
    "next = 0 #used as an index, always: next = i+1\n",
    "\n",
    "#Those next 3 are set by us\n",
    "TAIL = 35 #Avoiding the great changes of the edges\n",
    "SKIP = TAIL #Insted of checking each point, we're checking intervals.\n",
    "STRIGHT = 0.7 #Number that we diagnosed to check diffrences between lines.\n",
    "    \n",
    "#helpful functions we use:\n",
    "    #slopee(p1, p2) - Calculate the slope (SHIPUA) between 2 points.\n",
    "    #arctan(num) - Trigonomatric function\n",
    "\n",
    "if (len(handlift) > 1):          \n",
    "    for j in handlift[:-1]:\n",
    "        next += 1\n",
    "        for i in range(j, handlift[next]-2*TAIL, SKIP):\n",
    "            x1 = i\n",
    "            x2 = i+SKIP\n",
    "            #print(\"(\", x1, \",\" ,x2, \"): angle: \", abs(np.arctan(slopee(x1, x2))))\n",
    "            \n",
    "            if (abs((abs(np.arctan(slopee(x1, x2)))) - (abs(np.arctan(slopee(x1+SKIP, x2+SKIP))))) > STRIGHT):\n",
    "                totallines = totallines.union([i+SKIP])\n",
    "                lines += 1\n",
    "                \n",
    "#Now we will check the part last part:\n",
    "for i in range(handlift[next], len(stu)-TAIL, SKIP):      \n",
    "        x1 = i\n",
    "        x2 = i+SKIP           \n",
    "        #print(\"(\", x1, \",\" ,x2, \"): angle: \", abs(np.arctan(slopee(x1, x2))))\n",
    "        \n",
    "        if (abs((abs(np.arctan(slopee(x1, x2)))) - (abs(np.arctan(slopee(x1+SKIP, x2+SKIP))))) > STRIGHT):\n",
    "                totallines = totallines.union([i+SKIP])\n",
    "                lines += 1\n",
    "                \n",
    "        if (x2 >= len(stu)-2*TAIL):\n",
    "            #print(\"stop\")\n",
    "            break\n",
    "        \n",
    "print(f'Lines: {lines}')"
   ]
  },
  {
   "cell_type": "markdown",
   "id": "e167b9b8",
   "metadata": {},
   "source": [
    "## Now we can use visualization for the lines"
   ]
  },
  {
   "cell_type": "code",
   "execution_count": 328,
   "id": "b1a68d59",
   "metadata": {
    "scrolled": true
   },
   "outputs": [
    {
     "name": "stdout",
     "output_type": "stream",
     "text": [
      "Int64Index([0, 148, 312, 569, 674], dtype='int64')\n",
      "Int64Index([0, 148, 312, 569, 674, 814, 954, 1024, 1164], dtype='int64')\n"
     ]
    }
   ],
   "source": [
    "print(handlift)\n",
    "print(totallines)"
   ]
  },
  {
   "cell_type": "code",
   "execution_count": 329,
   "id": "d5bec4ec",
   "metadata": {
    "scrolled": true
   },
   "outputs": [
    {
     "data": {
      "text/plain": [
       "(263.525580321053, 925.160411132925, 110.70054278785099, 647.368518304654)"
      ]
     },
     "execution_count": 329,
     "metadata": {},
     "output_type": "execute_result"
    },
    {
     "data": {
      "image/png": "[encoded data removed]",
      "text/plain": [
       "<Figure size 360x360 with 1 Axes>"
      ]
     },
     "metadata": {
      "needs_background": "light"
     },
     "output_type": "display_data"
    }
   ],
   "source": [
    "plt.figure(figsize=(5,5))\n",
    "plt.plot(stu['X'], stu['Y'], 'o', color='lightsteelblue')\n",
    "\n",
    "plt.plot(stu['X'][handlift], stu['Y'][handlift], 'o', color = 'blue', mew=10, label='Hand Lift')\n",
    "\n",
    "plt.plot(stu['X'][totallines], stu['Y'][totallines], 'o', color = 'goldenrod', mew=5, label='New Line')\n",
    "\n",
    "plt.plot(stu['X'][0], stu['Y'][0], 'or', mew=5, label='Start Point')\n",
    "\n",
    "plt.legend()\n",
    "\n",
    "ax = plt.gca()\n",
    "plt.axis([xmin, xmax, ymin, ymax])"
   ]
  },
  {
   "cell_type": "markdown",
   "id": "01719a4d",
   "metadata": {},
   "source": [
    "## Calculating average and pressure for each line"
   ]
  },
  {
   "cell_type": "markdown",
   "id": "c237055b",
   "metadata": {},
   "source": [
    "###### Question B:"
   ]
  },
  {
   "cell_type": "code",
   "execution_count": 330,
   "id": "10d23607",
   "metadata": {
    "scrolled": true
   },
   "outputs": [
    {
     "name": "stdout",
     "output_type": "stream",
     "text": [
      "Line 1:\n",
      "Average pressure: 0.59062106172378, length: 218.20825901886923\n",
      "Line 2:\n",
      "Average pressure: 0.2781604353065898, length: 84.38639947021849\n",
      "Line 3:\n",
      "Average pressure: 0.48105835942152875, length: 175.17639281224345\n",
      "Line 4:\n",
      "Average pressure: 0.497736945890245, length: 214.9139133376585\n",
      "Line 5:\n",
      "Average pressure: 0.5784202600696258, length: 252.60818532641642\n",
      "Line 6:\n",
      "Average pressure: 0.7446947685309819, length: 424.3303565573441\n",
      "Line 7:\n",
      "Average pressure: 0.7503205410071782, length: 271.8713319091118\n",
      "Line 8:\n",
      "Average pressure: 0.7402757559503828, length: 375.6163154940961\n",
      "Line 9:\n",
      "Average pressure: 0.7370308370966662, length: 45.14003340917366\n"
     ]
    }
   ],
   "source": [
    "next = 1\n",
    "\n",
    "#Why if? cuz the last line is untill the end of the draw, which its index is not in \"totallines\"\n",
    "if (len(totallines) > 1):\n",
    "    for line in totallines[:-1]:\n",
    "        print(f'Line {next}:')\n",
    "        avgLengthPres(line, totallines[next])\n",
    "        next += 1\n",
    "        \n",
    "print(f'Line {next}:')\n",
    "avgLengthPres(totallines[-1], len(stu)-1)"
   ]
  },
  {
   "cell_type": "markdown",
   "id": "e17cc066",
   "metadata": {},
   "source": [
    "## Is the draw opened or closed?"
   ]
  },
  {
   "cell_type": "markdown",
   "id": "f1dde9f7",
   "metadata": {},
   "source": [
    "###### Question D:"
   ]
  },
  {
   "cell_type": "code",
   "execution_count": 331,
   "id": "da0af12c",
   "metadata": {},
   "outputs": [
    {
     "name": "stdout",
     "output_type": "stream",
     "text": [
      "The draw is OPENED\n"
     ]
    }
   ],
   "source": [
    "flag = True\n",
    "for lift in handlift:\n",
    "    if (is_close(lift) == False):\n",
    "        flag = False\n",
    "        break\n",
    "\n",
    "if (flag):\n",
    "    print(\"The draw is CLOSED\")\n",
    "else:\n",
    "    print(\"The draw is OPENED\")"
   ]
  }
 ],
 "metadata": {
  "kernelspec": {
   "display_name": "Python 3",
   "language": "python",
   "name": "python3"
  },
  "language_info": {
   "codemirror_mode": {
    "name": "ipython",
    "version": 3
   },
   "file_extension": ".py",
   "mimetype": "text/x-python",
   "name": "python",
   "nbconvert_exporter": "python",
   "pygments_lexer": "ipython3",
   "version": "3.8.8"
  }
 },
 "nbformat": 4,
 "nbformat_minor": 5
}
